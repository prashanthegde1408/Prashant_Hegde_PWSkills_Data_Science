{
 "cells": [
  {
   "cell_type": "code",
   "execution_count": null,
   "id": "2952313b",
   "metadata": {},
   "outputs": [],
   "source": [
    "#program to accept percentage from the user and display the grade according to the following \n",
    "\n",
    "while True:\n",
    "    user_input = int(input(\"Enter the percentage : \"))\n",
    "    if user_input > 100:\n",
    "        print(\"Percentage should be less than or equal to 100\")\n",
    "    else:\n",
    "        break\n",
    "\n",
    "if user_input > 90:\n",
    "    print(\"Your grade is A\")\n",
    "elif user_input > 80 and user_input<=90:\n",
    "    print(\"Your grade is B\")\n",
    "elif user_input >=60 and user_input<=80:\n",
    "    print(\"Your grade is C\")\n",
    "else:\n",
    "    print(\"Your grade is D\")\n",
    "\n"
   ]
  },
  {
   "cell_type": "code",
   "execution_count": null,
   "id": "d2174e95",
   "metadata": {},
   "outputs": [],
   "source": [
    "#program to accept the cost price of a bike and display the road tax to be paid according to the following criteria\n",
    "\n",
    "cost_price = int(input(\"Enter the cost price of the bike :\"))\n",
    "\n",
    "if cost_price > 100000:\n",
    "    print(f\"Cost price of the bike is {cost_price*0.15}\")\n",
    "elif cost_price >50000 and cost_price<=100000:\n",
    "    print(f\"Cost price of the bike is {cost_price*0.1}\")\n",
    "else:\n",
    "    print(f\"Cost price of the bike is {cost_price*0.05}\")\n"
   ]
  },
  {
   "cell_type": "code",
   "execution_count": null,
   "id": "abd36041",
   "metadata": {},
   "outputs": [],
   "source": [
    "#Accept any city from the user and display monuments of that city.\n",
    "\n",
    "city = input(\"Enter the name of the city!!! :\")\n",
    "\n",
    "if city == \"Delhi\":\n",
    "    print(\"Red Fort\")\n",
    "elif city == \"Agra\":\n",
    "    print(\"Taj Mahal\")\n",
    "elif city == \"Jaipur\":\n",
    "    print(\"Jal Mahal\")\n",
    "else:\n",
    "    print(\"No Monument found for this City!!!\")"
   ]
  },
  {
   "cell_type": "code",
   "execution_count": null,
   "id": "2073c7f2",
   "metadata": {},
   "outputs": [],
   "source": [
    "#Check how many times a given number can be divided by 3 before it is less than or equal to 10.\n",
    "number = int(input(\"Enter any number :\"))\n",
    "new_num = number\n",
    "count = 0\n",
    "\n",
    "while number >=10:\n",
    "    number = number/3\n",
    "    count+=1\n",
    "    \n",
    "print(f\" {new_num} can be divided  {count} times  before its less than or equal to ten\")\n"
   ]
  },
  {
   "cell_type": "code",
   "execution_count": null,
   "id": "0a172872",
   "metadata": {},
   "outputs": [],
   "source": [
    "#Why and When to Use while Loop in Python give a detailed description with example \n",
    "\n",
    "\n",
    "#A \"while\" loop is used to repeat a specific block of code an unknown number of times until a condition is met. \n",
    "#When a set of operations needs to be performed multiple times based on a given condition or to iterate through an object, while loops can be used. \n",
    "#Loops can execute a block of code as long as a specified condition is reached. Loops are handy because they save time, reduce errors, and make code more readable.\n",
    "\n",
    "Ex: \n",
    "\n",
    "number = int(input(\"Enter any number :\"))\n",
    "new_num = number\n",
    "count = 0\n",
    "\n",
    "while number >=10:\n",
    "    number = number/3\n",
    "    count+=1\n",
    "    \n",
    "print(f\" {new_num} can be divided {count} times  before its less than or equal to ten\")\n"
   ]
  },
  {
   "cell_type": "code",
   "execution_count": null,
   "id": "1ae482dc",
   "metadata": {},
   "outputs": [],
   "source": [
    "#Use nested while loop to print 3 different pattern. \n",
    "n = int(input('Enter number of rows : '))\n",
    "\n",
    "print(\"PATTERN 1:\\n \")\n",
    "\n",
    "i = 1\n",
    "while i <= n :\n",
    "    j = 1\n",
    "    while j <= i:\n",
    "        print(\"*\", end = \" \")\n",
    "        j += 1\n",
    "    print()\n",
    "    i += 1\n",
    "    \n",
    "print(\"\\nPATTERN 2: \\n\")\n",
    "\n",
    "\n",
    "    \n",
    "i = 1\n",
    "while i <= n :\n",
    "    j = n\n",
    "    while j >= i:\n",
    "        print(\"*\", end = \" \")\n",
    "        j -= 1\n",
    "    print()\n",
    "    i += 1\n",
    "    \n",
    "    \n",
    "print(\"\\nPATTERN 3: \")\n",
    "\n",
    "i = 1\n",
    "while i <= n :\n",
    "    j = 1\n",
    "    while j <= i:\n",
    "        print(\"*\", end = \" \")\n",
    "        j += 1\n",
    "    print()\n",
    "    i += 1\n",
    "    \n",
    "    \n",
    "i = 1\n",
    "while i <= n :\n",
    "    j = n\n",
    "    while j >= i:\n",
    "        print(\"*\", end = \" \")\n",
    "        j -= 1\n",
    "    print()\n",
    "    i += 1"
   ]
  },
  {
   "cell_type": "code",
   "execution_count": 1,
   "id": "edda0a9b",
   "metadata": {},
   "outputs": [
    {
     "name": "stdout",
     "output_type": "stream",
     "text": [
      "10\n",
      "9\n",
      "8\n",
      "7\n",
      "6\n",
      "5\n",
      "4\n",
      "3\n",
      "2\n",
      "1\n"
     ]
    }
   ],
   "source": [
    "#Reverse a while loop to display numbers from 10 to 1 \n",
    "\n",
    "n=10\n",
    "while n>=1:\n",
    "    print(n)\n",
    "    n-=1"
   ]
  }
 ],
 "metadata": {
  "kernelspec": {
   "display_name": "Python 3 (ipykernel)",
   "language": "python",
   "name": "python3"
  },
  "language_info": {
   "codemirror_mode": {
    "name": "ipython",
    "version": 3
   },
   "file_extension": ".py",
   "mimetype": "text/x-python",
   "name": "python",
   "nbconvert_exporter": "python",
   "pygments_lexer": "ipython3",
   "version": "3.9.13"
  }
 },
 "nbformat": 4,
 "nbformat_minor": 5
}
