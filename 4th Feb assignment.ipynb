{
 "cells": [
  {
   "cell_type": "code",
   "execution_count": null,
   "id": "1cccff3e",
   "metadata": {},
   "outputs": [],
   "source": [
    "# Q1. Create a python program to sort the given list of tuples based on integer value using a  lambda function.  \n",
    "\n",
    "s=[('Sachin Tendulkar', 34357), ('Ricky Ponting', 27483), ('Jack Kallis', 25534), ('Virat Kohli', 24936)] \n",
    "\n",
    "def List_Tuple_Sort(List):\n",
    "    List.sort(key = lambda i : i[1])\n",
    "    return List\n",
    "\n",
    "#functiona call\n",
    "List_Tuple_Sort(s)"
   ]
  },
  {
   "cell_type": "code",
   "execution_count": null,
   "id": "67a97348",
   "metadata": {},
   "outputs": [],
   "source": [
    "# Q2. Write a Python Program to find the squares of all the numbers in the given list of integers using  lambda and map functions. \n",
    "\n",
    "List = [1, 2, 3, 4, 5, 6, 7, 8, 9, 10] \n",
    "\n",
    "list(map(lambda num : num**2,List))\n",
    "\n",
    "# Lambda function\n",
    "#     lambda num : num**2\n",
    "# Putting the function in a map\n",
    "#     map(lambda num : num**2,List)\n",
    "# Casting it to a list\n",
    "#     list(map(lambda num : num**2,List))"
   ]
  },
  {
   "cell_type": "code",
   "execution_count": null,
   "id": "e812f6a3",
   "metadata": {},
   "outputs": [],
   "source": [
    "# Q3. Write a python program to convert the given list of integers into a tuple of strings. Use map and  lambda functions \n",
    "# Given String: [1, 2, 3, 4, 5, 6, 7, 8, 9, 10] \n",
    "# Expected output: ('1', '2', '3', '4', '5', '6', '7', '8', '9', '10') \n",
    "\n",
    "List= [1, 2, 3, 4, 5, 6, 7, 8, 9, 10]\n",
    "\n",
    "tuple(list(map(lambda num:str(num),List)))"
   ]
  },
  {
   "cell_type": "code",
   "execution_count": null,
   "id": "4c0feea2",
   "metadata": {},
   "outputs": [],
   "source": [
    "# Q4.  Write a python program using reduce function to compute the product of a list containing numbers  from 1 to 25. \n",
    "\n",
    "from functools import reduce\n",
    "\n",
    "#declaring empty list\n",
    "List=[]\n",
    "\n",
    "#Generating a list\n",
    "for i in range(1,26):\n",
    "    List.append(i)\n",
    "\n",
    "print(List)    \n",
    "\n",
    "#reduce function to compute the product\n",
    "reduce(lambda x,y:x*y,List)\n"
   ]
  },
  {
   "cell_type": "code",
   "execution_count": null,
   "id": "d6144fa1",
   "metadata": {},
   "outputs": [],
   "source": [
    "# Q5. Write a python program to filter the numbers in a given list that are divisible by 2 and 3 using the  filter function. \n",
    "\n",
    "L=[2, 3, 6, 9, 27, 60, 90, 120, 55, 46] \n",
    "\n",
    "\n",
    "list(filter(lambda n: n%2 == 0 and n%3==0,L))\n"
   ]
  },
  {
   "cell_type": "code",
   "execution_count": null,
   "id": "a8ed0d26",
   "metadata": {},
   "outputs": [],
   "source": [
    "# Q6. Write a python program to find palindromes in the given list of strings using lambda and filter  function. \n",
    "List = ['python', 'php', 'aba', 'radar', 'level'] \n",
    "\n",
    "list(filter(lambda string: string==string[::-1],List))"
   ]
  }
 ],
 "metadata": {
  "kernelspec": {
   "display_name": "Python 3 (ipykernel)",
   "language": "python",
   "name": "python3"
  },
  "language_info": {
   "codemirror_mode": {
    "name": "ipython",
    "version": 3
   },
   "file_extension": ".py",
   "mimetype": "text/x-python",
   "name": "python",
   "nbconvert_exporter": "python",
   "pygments_lexer": "ipython3",
   "version": "3.9.13"
  }
 },
 "nbformat": 4,
 "nbformat_minor": 5
}
