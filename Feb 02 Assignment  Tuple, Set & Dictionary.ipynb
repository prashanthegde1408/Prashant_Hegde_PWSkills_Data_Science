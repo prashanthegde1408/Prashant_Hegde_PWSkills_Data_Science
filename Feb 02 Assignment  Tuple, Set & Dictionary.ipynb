{
 "cells": [
  {
   "cell_type": "code",
   "execution_count": null,
   "id": "e7bb2127",
   "metadata": {},
   "outputs": [],
   "source": [
    "#Q1. What are the characteristics of the tuples? Is tuple immutable?\n",
    "    \n",
    "#     characteristics of the tuples: Tuple items are ordered, unchangeable, and allow duplicate values.\n",
    "#     Tuple elements can be of any data type like struct, and they are ordered/indexed like arrays\n",
    "    \n",
    "#     Tuples are immutable.\n"
   ]
  },
  {
   "cell_type": "code",
   "execution_count": null,
   "id": "bf13c77c",
   "metadata": {},
   "outputs": [],
   "source": [
    "# Q2. What are the two tuple methods in python? \n",
    "# Give an example of each method. Give a reason why  tuples have only two in-built methods as compared to Lists. \n",
    "\n",
    "#     Two tuple methods in python are count(), and index()\n",
    "#     count(): returns the number of times the value occurs in the tuple\n",
    "#     index(): returns the specific position/index of the value passed,\n",
    "t=(1,2,3,2)\n",
    "print(t.count(2))\n",
    "print(t.index(3))"
   ]
  },
  {
   "cell_type": "code",
   "execution_count": null,
   "id": "813c779f",
   "metadata": {},
   "outputs": [],
   "source": [
    "# Q3.  Which collection datatypes in python do not allow duplicate items? \n",
    "# Write a code using a set to remove  duplicates from the given list. \n",
    "\n",
    "# set is the un-ordered collection data type that does not allow duplicate items\n",
    "\n",
    "List = [1, 1, 1, 2, 1, 3, 1, 4, 2, 1, 2, 2, 2, 3, 2, 4, 3, 1, 3, 2, 3, 3, 3, 4, 4, 1, 4, 2, 4, 3, 4, 4] \n",
    "\n",
    "#Casting list to a set to remove duplicate items, and casting back it to list to return the output in a list format\n",
    "new_list = list(set(List))\n",
    "print(new_list)\n"
   ]
  },
  {
   "cell_type": "code",
   "execution_count": null,
   "id": "03fc4999",
   "metadata": {},
   "outputs": [],
   "source": [
    "# Q4. Explain the difference between the union() and update() methods for a set. Give an example of  each method.\n",
    "\n",
    "#     Union() returns the set that contains all items from both sets, \n",
    "#     where as Update() method updates the current set with addding items from the another set.\n",
    "#     Union() will return the set, while update() will not return anything. It just updates the current set.\n",
    "\n",
    "set1 = {\"A\", \"B\", \"C\"}\n",
    "set2 = {\"d\", \"e\", \"f\"}\n",
    "\n",
    "set3 = set1.union(set2)\n",
    "print(set3) #union return the set which gets assigned to set 3\n",
    "set4 = set1.update(set2)\n",
    "print(set4) #update does not return the set, set4 is of <class 'NoneType'>\n",
    "set1.update(set2)\n",
    "print(set1) # set1 itself is updated with items from set2\n"
   ]
  },
  {
   "cell_type": "code",
   "execution_count": null,
   "id": "e8d5d67d",
   "metadata": {},
   "outputs": [],
   "source": [
    "# Q5. What is a dictionary? Give an example. Also, state whether a dictionary is ordered or unordered. \n",
    "\n",
    "#     A Python dictionary consists of a key and then an associated value. That value can be almost any Python object. \n",
    "#     Python dictionary is a key value pair.\n",
    "#     Python dictionaries are a collection of objects that are stored by a key, unlike a sequence that stored objects by their relative position.\n",
    "#     Python dictionaries are unordered.\n",
    "    \n",
    "    \n",
    "dict_example = {\"first_key\": \"first_value\", \"second_key\": 2, \"key3\":'value3'}\n",
    "print(dict_example)"
   ]
  },
  {
   "cell_type": "code",
   "execution_count": null,
   "id": "5cbce091",
   "metadata": {},
   "outputs": [],
   "source": [
    "# Q6. Can we create a nested dictionary? If so, please give an example by creating a simple one-level  nested dictionary. \n",
    "    \n",
    "#     Yes, Python allows the created of nexted dictionary.\n",
    "    \n",
    "my_dict = {'key1':123,'key2':[1,2,3],'key3':['item0','item1','item2']}\n",
    "print(my_dict)\n",
    "print(my_dict['key2'])"
   ]
  },
  {
   "cell_type": "code",
   "execution_count": null,
   "id": "65097e1f",
   "metadata": {},
   "outputs": [],
   "source": [
    "# Q7. Using setdefault() method, create key named topics in the given dictionary\n",
    "# and also add the value of  the key as this list ['Python', 'Machine Learning', 'Deep Learning'] \n",
    "\n",
    "dict1 = {'language' : 'Python', 'course': 'Data Science Masters'} \n",
    "key = dict1.setdefault(\"topics\",['Python', 'Machine Learning', 'Deep Learning'])\n",
    "print(key)\n",
    "print(dict1)\n"
   ]
  },
  {
   "cell_type": "code",
   "execution_count": null,
   "id": "561c1986",
   "metadata": {},
   "outputs": [],
   "source": [
    "# Q8. What are the three view objects in dictionaries? \n",
    "# Use the three in-built methods in python to display  these three view objects for the given dictionary. \n",
    "\n",
    "#     Three view objects in dictionaries are keys, values, and items.\n",
    "#     Keys holds all the keys of the dictionaires, values hold all values, and items hold key-value pairs.\n",
    "\n",
    "dict1 = {'Sport': 'Cricket' , 'Teams': ['India', 'Australia', 'England', 'South Africa', 'Sri Lanka', 'New Zealand']} \n",
    "\n",
    "print(dict1.items())\n",
    "print(dict1.values())\n",
    "print(dict1.keys())\n",
    "\n",
    "#Casting to list for printing purposes\n",
    "\n",
    "items = list(dict1.items())\n",
    "values = list(dict1.values())\n",
    "keys = list(dict1.keys())\n",
    "\n",
    "print(items)\n",
    "print(values)\n",
    "print(keys)"
   ]
  }
 ],
 "metadata": {
  "kernelspec": {
   "display_name": "Python 3 (ipykernel)",
   "language": "python",
   "name": "python3"
  },
  "language_info": {
   "codemirror_mode": {
    "name": "ipython",
    "version": 3
   },
   "file_extension": ".py",
   "mimetype": "text/x-python",
   "name": "python",
   "nbconvert_exporter": "python",
   "pygments_lexer": "ipython3",
   "version": "3.9.13"
  }
 },
 "nbformat": 4,
 "nbformat_minor": 5
}
