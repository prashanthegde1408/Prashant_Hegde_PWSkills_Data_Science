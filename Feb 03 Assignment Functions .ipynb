{
 "cells": [
  {
   "cell_type": "code",
   "execution_count": null,
   "id": "d069ee0e",
   "metadata": {},
   "outputs": [],
   "source": [
    "# Q1. Which keyword is used to create a function? \n",
    "# Create a function to return a list of odd numbers in the  range of 1 to 25.\n",
    "\n",
    "#     Keyword used to create the function is def\n",
    "\n",
    "odd_number_list=[]\n",
    "def odd_number(range1, range2):\n",
    "    for i in range(range1,range2):\n",
    "        if i%2 !=0:\n",
    "            odd_number_list.append(i)\n",
    "    print(odd_number_list)\n",
    "    \n",
    "    \n",
    "#function call\n",
    "odd_number(1,25)"
   ]
  },
  {
   "cell_type": "code",
   "execution_count": null,
   "id": "b79f0b66",
   "metadata": {},
   "outputs": [],
   "source": [
    "# Q2. Why *args and **kwargs is used in some functions?\n",
    "# Create a function each for *args and **kwargs to  demonstrate their use. \n",
    "\n",
    "#     *args :  When a function parameter starts with an asterisk, it allows for an arbitrary number of arguments, \n",
    "#              and the function takes them in as a tuple of values. Used when we dont know  how many arguments we need to pass \n",
    "#     *kwargs: Python offers a way to handle arbitrary numbers of keyworded arguments. \n",
    "#              Instead of creating a tuple of values, **kwargs builds a dictionary of key/value pairs.\n",
    "\n",
    "def args_func(*args):\n",
    "    print(args)\n",
    "\n",
    "def kwargs_func(**kwargs):\n",
    "    if 'fruit' in kwargs:\n",
    "        print(f\"My favorite fruit is {kwargs['fruit']}\")\n",
    "    else:\n",
    "        print(\"I don't like fruit\")\n",
    "        \n",
    "#function calls        \n",
    "args_func(10,20)        \n",
    "kwargs_func(fruit='pineapple')\n",
    "kwargs_func(vegitable='pineapple')"
   ]
  },
  {
   "cell_type": "code",
   "execution_count": null,
   "id": "7836eec6",
   "metadata": {},
   "outputs": [],
   "source": [
    "# Q3.What is an iterator in python? \n",
    "# Name the method used to initialise the iterator object and the method  used for iteration. \n",
    "# Use these methods to print the first five elements of the given list [2, 4, 6, 8, 10, 12, 14, 16,  18, 20]. \n",
    "\n",
    "#     Iterators are objects in Python that are used to iterate over iterable objects such as lists, tuples, dicts, and sets. \n",
    "#     The iter() method is used to initialise the iterator object. It iterates using the next() method.\n",
    "\n",
    "#     __iter__(): The iter() method is used to initialise an iterator.\n",
    "#     __next__() returns an iterator object: The iterable's next value is returned by the next method. \n",
    "\n",
    "\n",
    "List= [2, 4, 6, 8, 10, 12, 14, 16,  18, 20]\n",
    "myit = iter(List)\n",
    "\n",
    "for i in range(0,5):\n",
    "    print(next(myit))\n"
   ]
  },
  {
   "cell_type": "code",
   "execution_count": null,
   "id": "dc74de7e",
   "metadata": {},
   "outputs": [],
   "source": [
    "# Q4.  What is a generator function in python? Why yield keyword is used? Give an example of a generator  function.\n",
    "\n",
    "#     A generator-function is defined similarly to a regular function, \n",
    "#     but whenever it needs to generate a value, it uses the yield keyword rather than the return keyword. \n",
    "#     If yield appears in the body of a def, the function is automatically converted to a generator function.\n",
    "\n",
    "\n",
    "def generator_func(range1,range2):\n",
    "    for i in range(range1, range2):\n",
    "        yield i\n",
    "         \n",
    "for a in generator_func(5,13):\n",
    "    print(a)"
   ]
  },
  {
   "cell_type": "code",
   "execution_count": 2,
   "id": "63881621",
   "metadata": {},
   "outputs": [
    {
     "name": "stdout",
     "output_type": "stream",
     "text": [
      "2\n",
      "3\n",
      "5\n",
      "7\n",
      "11\n",
      "13\n",
      "17\n",
      "19\n",
      "23\n",
      "29\n",
      "31\n",
      "37\n",
      "41\n",
      "43\n",
      "47\n",
      "53\n",
      "59\n",
      "61\n",
      "67\n",
      "71\n"
     ]
    }
   ],
   "source": [
    "# Q5. Create a generator function for prime numbers less than 1000. \n",
    "# Use the next() method to print the  first 20 prime numbers. \n",
    "\n",
    "List=[]\n",
    "def prime_check_func(num):\n",
    "    for i in range(2,num):\n",
    "        if num % i ==0:\n",
    "            return False\n",
    "    return True\n",
    "\n",
    "def prime_gen_func(num):\n",
    "    for j in range(2,num+1):\n",
    "        if prime_check_func(j):\n",
    "            yield j\n",
    "            \n",
    "                      \n",
    "prime_numbers = prime_gen_func(1000)\n",
    "\n",
    "prime_numbers_iterator = iter(prime_numbers)\n",
    "\n",
    "for k in range(0,20): #need to make sure we dont give more range than the number of prime number in prime_numbers\n",
    "    print(next(prime_numbers_iterator))\n",
    "    "
   ]
  }
 ],
 "metadata": {
  "kernelspec": {
   "display_name": "Python 3 (ipykernel)",
   "language": "python",
   "name": "python3"
  },
  "language_info": {
   "codemirror_mode": {
    "name": "ipython",
    "version": 3
   },
   "file_extension": ".py",
   "mimetype": "text/x-python",
   "name": "python",
   "nbconvert_exporter": "python",
   "pygments_lexer": "ipython3",
   "version": "3.9.13"
  }
 },
 "nbformat": 4,
 "nbformat_minor": 5
}
