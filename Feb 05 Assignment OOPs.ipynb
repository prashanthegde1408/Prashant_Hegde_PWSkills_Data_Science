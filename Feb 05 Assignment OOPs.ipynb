{
 "cells": [
  {
   "cell_type": "markdown",
   "id": "4dd18199",
   "metadata": {},
   "source": [
    "# Q1. Explain Class and Object with respect to Object-Oriented Programming. Give a suitable example.\n",
    "\n",
    "The class is a blueprint that defines the nature of a future object. From classes we can construct instances. An instance is a specific object created from a particular class. User defined objects are created using the class keyword.Classes provide a means of bundling data and functionality together. Creating a new class creates a new type of object, allowing new instances of that type to be made. Each class instance can have attributes attached to it for maintaining its state.\n",
    "\n",
    "An Object is an instance of a Class. A class is like a blueprint while an instance is a copy of the class with actual values.\n",
    "\n",
    "class Dog:\n",
    "    def __init__(self,breed):\n",
    "        self.breed = breed\n",
    "        \n",
    "pandu = Dog(breed='Lab')\n",
    "dog_2 = Dog(breed='Huskie')"
   ]
  },
  {
   "cell_type": "markdown",
   "id": "14bc1cc2",
   "metadata": {},
   "source": [
    "# Q2. Name the four pillars of OOPs. \n",
    "\n",
    "While Classes and objects are important concepts of OOOps in python, We also have other like\n",
    "    Polymorphism\n",
    "    Encapsulation\n",
    "    Inheritance\n",
    "    Abstraction"
   ]
  },
  {
   "cell_type": "markdown",
   "id": "54c6d986",
   "metadata": {},
   "source": [
    "# Q3. Explain why the __init__() function is used. Give a suitable example. \n",
    "\n",
    "__init__() method is used to initialize the attributes of the class.It is called automatically right after the object has been created. Its quite similaar to constructors.\n",
    "\n",
    "class Dog:\n",
    "    def __init__(self,breed):\n",
    "        self.breed = breed\n",
    "        \n",
    "pandu = Dog(breed='Lab')\n",
    "dog_2 = Dog(breed='Huskie')"
   ]
  },
  {
   "cell_type": "markdown",
   "id": "19975a6f",
   "metadata": {},
   "source": [
    "# Q4. Why self is used in OOPs? \n",
    "\n",
    "Self is not exactly a keyword in python. By convention it is used. Each attribute in a class definition begins with a reference to the instance object. It is by convention named self. We can say that self represents the instance of a class, and we can access the attributes and methods using self."
   ]
  },
  {
   "cell_type": "markdown",
   "id": "c591d2ed",
   "metadata": {},
   "source": [
    "# Q5. What is inheritance? Give an example for each type of inheritance. \n",
    "\n",
    "Inheritance is a way to form new classes using classes that have already been defined. The newly formed classes are called derived classes, the classes that we derive from are called base classes. Important benefits of inheritance are code reuse and reduction of complexity of a program. The derived classes  override or extend the functionality of base classes.\n",
    "\n",
    "Types of Inheitence are:\n",
    "Single Inheitence, Multiple Inheitence, Multilevel Inheitence, Hierarchical Inheritance,Hybrid Inheritance"
   ]
  },
  {
   "cell_type": "code",
   "execution_count": null,
   "id": "c9e87673",
   "metadata": {},
   "outputs": [],
   "source": [
    "class one:\n",
    "    \n",
    "    def method_1(self):\n",
    "        print(\"Inside method one\")\n",
    "        \n",
    "#######################################################################\n",
    "#Single Inheritence       \n",
    "class two(one):\n",
    "    def method_2(self):\n",
    "        print(\"Inside method two\")\n",
    "        \n",
    "#######################################################################        \n",
    "#multi level Inheritence        \n",
    "class three(two):\n",
    "    def method_3(self):\n",
    "        print(\"Inside method three\")\n",
    "        \n",
    "####################################################################### \n",
    "#multiple inheritence\n",
    "class four():\n",
    "    def method_4(self):\n",
    "        print(\"Inside method four\")\n",
    "\n",
    "class five():\n",
    "    def method_5(self):\n",
    "        print(\"Inside method five\")\n",
    "\n",
    "class six(four,five):\n",
    "    def method_6(self):\n",
    "        print(\"Inside method six\")\n",
    "        \n",
    "#######################################################################\n",
    "#Hierarchical Inheritance\n",
    "class seven():\n",
    "    def method_7(self):\n",
    "        print(\"Inside method seven\")\n",
    "\n",
    "class eight(seven):\n",
    "    def method_8(self):\n",
    "        print(\"Inside method eight\")\n",
    "        \n",
    "\n",
    "class nine(seven):\n",
    "    def method_9(self):\n",
    "        print(\"Inside method Nine\")\n",
    "        \n",
    "        \n",
    "#######################################################################\n",
    "#Hybrid Inheritence - Mix any\n",
    "class ten(nine):\n",
    "    def method_10(self):\n",
    "        print(\"Inside method ten\")"
   ]
  },
  {
   "cell_type": "code",
   "execution_count": null,
   "id": "9a61b5f3",
   "metadata": {},
   "outputs": [],
   "source": [
    "#Single Inheritence\n",
    "obj2 = two()\n",
    "obj2.method_1()"
   ]
  },
  {
   "cell_type": "code",
   "execution_count": null,
   "id": "9f65f7bf",
   "metadata": {},
   "outputs": [],
   "source": [
    "#multi level Inheritence\n",
    "obj3 = three()\n",
    "obj3.method_1()"
   ]
  },
  {
   "cell_type": "code",
   "execution_count": null,
   "id": "62e9ac0f",
   "metadata": {},
   "outputs": [],
   "source": [
    "#multiple inheritence\n",
    "obj6 = six()\n",
    "obj6.method_4()\n",
    "obj6.method_5()"
   ]
  },
  {
   "cell_type": "code",
   "execution_count": null,
   "id": "ea06f9cd",
   "metadata": {},
   "outputs": [],
   "source": [
    "#Hierarchical Inheritance\n",
    "obj8 =eight()\n",
    "obj8.method_7()\n",
    "obj9 = nine()\n",
    "obj9.method_7()"
   ]
  },
  {
   "cell_type": "code",
   "execution_count": null,
   "id": "c5b66b22",
   "metadata": {},
   "outputs": [],
   "source": [
    "#Hybrid Inheritence - Mixing Hierarchical and multi level\n",
    "obj10 = ten()\n",
    "obj10.method_7()\n",
    "obj10.method_9()\n",
    "obj10.method_10()"
   ]
  }
 ],
 "metadata": {
  "kernelspec": {
   "display_name": "Python 3 (ipykernel)",
   "language": "python",
   "name": "python3"
  },
  "language_info": {
   "codemirror_mode": {
    "name": "ipython",
    "version": 3
   },
   "file_extension": ".py",
   "mimetype": "text/x-python",
   "name": "python",
   "nbconvert_exporter": "python",
   "pygments_lexer": "ipython3",
   "version": "3.9.13"
  }
 },
 "nbformat": 4,
 "nbformat_minor": 5
}
