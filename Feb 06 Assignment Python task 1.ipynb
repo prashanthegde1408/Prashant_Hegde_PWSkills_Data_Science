{
 "cells": [
  {
   "cell_type": "markdown",
   "id": "02d56b64",
   "metadata": {},
   "source": [
    "Q1. Create a function which will take a list as an argument and return the product of all the numbers  after creating a flat list. \n",
    "Use the below-given list as an argument for your function. Note: you must extract numeric keys and values of the dictionary also. \n"
   ]
  },
  {
   "cell_type": "code",
   "execution_count": null,
   "id": "c217562a",
   "metadata": {},
   "outputs": [],
   "source": [
    "list1 = [1,2,3,4, [44,55,66, True], False, (34,56,78,89,34), {1,2,3,3,2,1}, {1:34, \"key2\": [55, 67, 78, 89], 4: (45,  22, 61, 34)}, [56, 'data science'], 'Machine Learning'] \n",
    "final_list = []\n",
    "final_product = 1\n",
    "\n",
    "def product(list1):\n",
    "    for element in list1:\n",
    "        if type(element) in (list,set,tuple):\n",
    "            for i in element:\n",
    "                if type(i) is int:\n",
    "                    final_list.append(i)\n",
    "                elif type(i) in (list,set,tuple):\n",
    "                    product(i)\n",
    "        elif type(element) is int:\n",
    "            final_list.append(element)\n",
    "        elif type(element) is dict:\n",
    "            dict_list = list(element.items())\n",
    "            product(dict_list)\n",
    "    return final_list\n",
    "\n",
    "product_list = product(list1)\n",
    "print(f\"Final List is :  {product_list}\")\n",
    "for element in product_list:\n",
    "    final_product = final_product*element\n",
    "print(f\"Final product is : {final_product}\")"
   ]
  },
  {
   "cell_type": "markdown",
   "id": "411c55a1",
   "metadata": {},
   "source": [
    "Q2. Write a python program for encrypting a message sent to you by your friend. The logic of encryption  should be such that, for a the output should be z. For b, the output should be y. For c, the output should  be x respectively. Also, the whitespace should be replaced with a dollar sign. Keep the punctuation  marks unchanged. \n",
    "Input Sentence: I want to become a Data Scientist. \n",
    "Encrypt the above input sentence using the program you just created. \n",
    "Note: Convert the given input sentence into lowercase before encrypting. The final output should be  lowercase.\n"
   ]
  },
  {
   "cell_type": "code",
   "execution_count": null,
   "id": "ad0b3deb",
   "metadata": {},
   "outputs": [],
   "source": [
    "def encryption(input_sentence_list):\n",
    "    for char in input_sentence_list:\n",
    "        if char == \" \":\n",
    "            final_sentence_list.append(\"$\")\n",
    "        elif char in alphabet:\n",
    "            for i in range(0,len(alphabet)):\n",
    "                if char == alphabet[i]:\n",
    "                    final_sentence_list.append(reversed_alphabet[i])\n",
    "        else:\n",
    "            final_sentence_list.append(char)\n",
    "            \n",
    "    return \"\".join(final_sentence_list)\n",
    "\n",
    "\n",
    "input_sentence = \"I want to become a Data Scientist.\"\n",
    "input_sentence_list = list(input_sentence.lower())\n",
    "final_sentence_list = []\n",
    "\n",
    "alphabet = \"abcdefghijklmnopqrstuvwxyz\"\n",
    "reversed_alphabet = alphabet[::-1]\n",
    "\n",
    "encrypted_sentence= encryption(input_sentence_list)\n",
    "print(encrypted_sentence)"
   ]
  },
  {
   "cell_type": "code",
   "execution_count": null,
   "id": "7b32dd7f",
   "metadata": {},
   "outputs": [],
   "source": [
    "# def decryption(input_sentence_list):\n",
    "#     for char in input_sentence_list:\n",
    "#         if char == \"$\":\n",
    "#             final_sentence_list.append(\" \")\n",
    "#         elif char in alphabet:\n",
    "#             for i in range(0,len(alphabet)):\n",
    "#                 if char == alphabet[i]:\n",
    "#                     final_sentence_list.append(reversed_alphabet[i])\n",
    "#         else:\n",
    "#             final_sentence_list.append(char)\n",
    "            \n",
    "#     return \"\".join(final_sentence_list)\n",
    "\n",
    "# input_sentence_list = list(encrypted_sentence)\n",
    "# decrypted_sentence=decryption(input_sentence_list)\n",
    "# print(decrypted_sentence)"
   ]
  }
 ],
 "metadata": {
  "kernelspec": {
   "display_name": "Python 3 (ipykernel)",
   "language": "python",
   "name": "python3"
  },
  "language_info": {
   "codemirror_mode": {
    "name": "ipython",
    "version": 3
   },
   "file_extension": ".py",
   "mimetype": "text/x-python",
   "name": "python",
   "nbconvert_exporter": "python",
   "pygments_lexer": "ipython3",
   "version": "3.9.13"
  }
 },
 "nbformat": 4,
 "nbformat_minor": 5
}
