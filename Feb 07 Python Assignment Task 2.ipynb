{
 "cells": [
  {
   "cell_type": "markdown",
   "id": "d09c2480",
   "metadata": {},
   "source": [
    "Q1. You are writing code for a company. The requirement of the company is that you create a python  function that will check whether the password entered by the user is correct or not. The function should  take the password as input and return the string “Valid Password” if the entered password follows the  below-given password guidelines else it should return “Invalid Password”. \n",
    "Note: \n",
    "1. The Password should contain at least two uppercase letters and at least two lowercase letters.\n",
    "2. The Password should contain at least a number and three special characters. \n",
    "3. The length of the password should be 10 characters long. \n"
   ]
  },
  {
   "cell_type": "code",
   "execution_count": null,
   "id": "9bec3e4c",
   "metadata": {},
   "outputs": [],
   "source": [
    "def password_checker(password):\n",
    "    \n",
    "    uppercase_count = 0\n",
    "    lowercase_count = 0\n",
    "    number_count = 0\n",
    "    special_char_count =0\n",
    "    password_length = len(password)\n",
    "    \n",
    "    for char in password:\n",
    "        if char.isupper():\n",
    "            uppercase_count+=1\n",
    "        elif char.islower():\n",
    "            lowercase_count+=1\n",
    "        elif char.isnumeric():\n",
    "            number_count +=1\n",
    "        elif not(char.isalpha() or char.isdigit() or char == \" \"):\n",
    "            special_char_count +=1\n",
    "        \n",
    "            \n",
    "    if password_length <10:\n",
    "        print(\"Invalid Password\")\n",
    "        print(\"Password length is less than 10 characters\")\n",
    "    elif uppercase_count <2:\n",
    "        print(\"Invalid Password\")\n",
    "        print(\"Password should contain atleast two uppercase characters\")\n",
    "    elif lowercase_count <2:\n",
    "        print(\"Invalid Password\")\n",
    "        print(\"Password should contain atleast two lowercase characters\")\n",
    "    elif number_count <1 :\n",
    "        print(\"Invalid Password\")\n",
    "        print(\"Password should contain atleast one number\")\n",
    "    elif special_char_count <3:\n",
    "        print(\"Invalid Password\")\n",
    "        print(\"Password should contain atleast three special characters\")\n",
    "    else:\n",
    "        print(\"Valid Password\")"
   ]
  },
  {
   "cell_type": "code",
   "execution_count": null,
   "id": "0d14ab94",
   "metadata": {},
   "outputs": [],
   "source": [
    "password_checker(\"@Valid@Password@1\")"
   ]
  },
  {
   "cell_type": "markdown",
   "id": "37d11767",
   "metadata": {},
   "source": [
    "Q2. Solve the below-given questions using at least one of the following: \n",
    "\n",
    "Lambda function OR Filter function OR Map function OR List Comprehension \n",
    "\n",
    "1. Check if the string starts with a particular letter\n",
    "2. Check if the string is numeric\n",
    "3. Sort a list of tuples having fruit names and their quantity.\n",
    "[(\"mango\",99),(\"orange\",80), (\"grapes\", 1000)]\n",
    "4. Find the squares of numbers from 1 to 10\n",
    "5. Find the cube root of numbers from 1 to 10\n",
    "6. Check if a given number is even\n",
    "7. Filter odd numbers from the given list. \n",
    "[1,2,3,4,5,6,7,8,9,10]\n",
    "8. Sort a list of integers into positive and negative integers lists. \n",
    "[1,2,3,4,5,6,-1,-2,-3,-4,-5,0] \n"
   ]
  },
  {
   "cell_type": "code",
   "execution_count": null,
   "id": "1a3588b1",
   "metadata": {},
   "outputs": [],
   "source": [
    "#Check if the string starts with a particular letter\n",
    "\n",
    "input_string = input(\"Enter the string : \")\n",
    "check_char = input(\"Enter the character you want to check if the given string starts with : \")\n",
    "\n",
    "output_list =list(filter(lambda string : string[0] == check_char,input_string))\n",
    "\n",
    "if(len(output_list)>0):\n",
    "    print(\"Yes, First character matches\")\n",
    "else:\n",
    "    print(\"No match\")"
   ]
  },
  {
   "cell_type": "code",
   "execution_count": null,
   "id": "37b9f25d",
   "metadata": {},
   "outputs": [],
   "source": [
    "#Check if the string is numeric\n",
    "input_string = input(\"Enter the string : \")\n",
    "\n",
    "Lambda_func =lambda string : string.isnumeric()\n",
    "\n",
    "if Lambda_func(input_string) == True:\n",
    "    print(\"String is numeric\")\n",
    "else:\n",
    "    print(\"String is not numeric\")"
   ]
  },
  {
   "cell_type": "code",
   "execution_count": null,
   "id": "daa6b12f",
   "metadata": {},
   "outputs": [],
   "source": [
    "#Sort a list of tuples having fruit names and their quantity. \n",
    "\n",
    "List = [(\"mango\",99),(\"orange\",80), (\"grapes\", 1000)]\n",
    "\n",
    "List.sort(key = lambda tup: tup[1])\n",
    "print(List)\n"
   ]
  },
  {
   "cell_type": "code",
   "execution_count": null,
   "id": "3c023f69",
   "metadata": {},
   "outputs": [],
   "source": [
    "#Find the squares of numbers from 1 to 10\n",
    "\n",
    "number_list = [1,2,3,4,5,6,7,8,9,10]\n",
    "\n",
    "list(map(lambda num : num**2,number_list))\n"
   ]
  },
  {
   "cell_type": "code",
   "execution_count": null,
   "id": "7b653e37",
   "metadata": {},
   "outputs": [],
   "source": [
    "#Find the cube root of numbers from 1 to 10\n",
    "import math\n",
    "number_list = [1,2,3,4,5,6,7,8,9,10]\n",
    "\n",
    "list(map(lambda num :  math.pow(num, (1/3)),number_list))\n",
    "\n",
    "#without math for positive numbers\n",
    "#list(map(lambda num :  num**(1/3),number_list))"
   ]
  },
  {
   "cell_type": "code",
   "execution_count": null,
   "id": "f9538b57",
   "metadata": {},
   "outputs": [],
   "source": [
    "Lambda = lambda num : num%2 ==0\n",
    "\n",
    "# Lambda(2)\n",
    "# Lambda(3)"
   ]
  },
  {
   "cell_type": "code",
   "execution_count": null,
   "id": "f0c559f1",
   "metadata": {},
   "outputs": [],
   "source": [
    "#Filter odd numbers from the given list. [1,2,3,4,5,6,7,8,9,10]\n",
    "\n",
    "List = [1,2,3,4,5,6,7,8,9,10]\n",
    "\n",
    "list(filter(lambda num : num%2 !=0,List))"
   ]
  },
  {
   "cell_type": "code",
   "execution_count": null,
   "id": "05bd9db9",
   "metadata": {},
   "outputs": [],
   "source": [
    "#Sort a list of integers into positive and negative integers lists. [1,2,3,4,5,6,-1,-2,-3,-4,-5,0]\n",
    "\n",
    "List = [1,2,3,4,5,6,-1,-2,-3,-4,-5,0]\n",
    "print(\"Original List : \",List)\n",
    "List.sort()\n",
    "print(\"Sorted orginal List : \",List)\n",
    "\n",
    "negative_list =list(filter(lambda num : num<0,List))\n",
    "negative_list.sort()\n",
    "print(\"Sorted list with negative numbers :  \",negative_list)\n",
    "\n",
    "Zero_list = list(filter(lambda num : num==0,List))\n",
    "print(\"List wit only zero : \",Zero_list)\n",
    "\n",
    "positive_list = list(filter(lambda num : num>0,List))\n",
    "positive_list.sort()\n",
    "print(\"Sorted List with positive numbers: \",positive_list)"
   ]
  }
 ],
 "metadata": {
  "kernelspec": {
   "display_name": "Python 3 (ipykernel)",
   "language": "python",
   "name": "python3"
  },
  "language_info": {
   "codemirror_mode": {
    "name": "ipython",
    "version": 3
   },
   "file_extension": ".py",
   "mimetype": "text/x-python",
   "name": "python",
   "nbconvert_exporter": "python",
   "pygments_lexer": "ipython3",
   "version": "3.9.13"
  }
 },
 "nbformat": 4,
 "nbformat_minor": 5
}
