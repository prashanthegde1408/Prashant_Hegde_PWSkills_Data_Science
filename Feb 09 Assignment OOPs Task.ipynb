{
 "cells": [
  {
   "cell_type": "markdown",
   "id": "500b5d60",
   "metadata": {},
   "source": [
    "Q1, Create a vehicle class with an init method having instance variables as name_of_vehicle, max_speed  and average_of_vehicle.  "
   ]
  },
  {
   "cell_type": "code",
   "execution_count": null,
   "id": "ba6e64a7",
   "metadata": {},
   "outputs": [],
   "source": [
    "class vehicle:\n",
    "    \n",
    "    def __init__(self,name_of_vehicle,max_speed,average_of_vehicle):\n",
    "        self.name_of_vehicle = name_of_vehicle\n",
    "        self.max_speed = max_speed\n",
    "        self.average_of_vehicle =  average_of_vehicle\n",
    "        \n",
    "vehicle_obj = vehicle(\"Tata Nexon\",150,20)\n",
    "# vehicle_obj.average_of_vehicle\n",
    "# vehicle_obj.max_speed\n",
    "# vehicle_obj.name_of_vehicle"
   ]
  },
  {
   "cell_type": "markdown",
   "id": "daa727da",
   "metadata": {},
   "source": [
    "Q2.  Create a child class car from the vehicle class created in Que 1, which will inherit the vehicle class.  Create a method named seating_capacity which takes capacity as an argument and returns the name of  the vehicle and its seating capacity. "
   ]
  },
  {
   "cell_type": "code",
   "execution_count": null,
   "id": "1b81d8d5",
   "metadata": {},
   "outputs": [],
   "source": [
    "class car(vehicle):\n",
    "    \n",
    "    # not_creating the __init__(), and passing the capacity directly in the method call\n",
    "    \n",
    "    def seating_capacity(self,capacity):\n",
    "        return f\"Car is {self.name_of_vehicle} and Its seating capacity is {capacity}\"\n",
    "    \n",
    "    \n",
    "car_obj = car(\"Altroz\",100,10)\n",
    "car_obj.seating_capacity(5)"
   ]
  },
  {
   "cell_type": "markdown",
   "id": "14bebe49",
   "metadata": {},
   "source": [
    "Q3. What is multiple inheritance? Write a python code to demonstrate multiple inheritance. "
   ]
  },
  {
   "cell_type": "markdown",
   "id": "10c6c02d",
   "metadata": {},
   "source": [
    "    Multiple Inheritence means a single class is inheriting the properties from multiple classes."
   ]
  },
  {
   "cell_type": "code",
   "execution_count": null,
   "id": "8fa19afa",
   "metadata": {},
   "outputs": [],
   "source": [
    "class one():\n",
    "    def method_one(self):\n",
    "        print(\"Method Inside Class One\")\n",
    "        \n",
    "class two():\n",
    "    def method_two(self):\n",
    "        print(\"Method Inside Class Two\")\n",
    "        \n",
    "class three(one,two):\n",
    "    pass\n",
    "\n",
    "obj_three = three()\n",
    "obj_three.method_one()\n",
    "obj_three.method_two()"
   ]
  },
  {
   "cell_type": "markdown",
   "id": "7d7a1446",
   "metadata": {},
   "source": [
    "Q4. What are getter and setter in python? Create a class and create a getter and a setter method in this  class. "
   ]
  },
  {
   "cell_type": "markdown",
   "id": "b235ebfa",
   "metadata": {},
   "source": [
    "    Getter and setter in Python are used for data encapsulation in python, and used to avoid direct access of a class fields so that private variable cant not be accessed directly or modified by external users."
   ]
  },
  {
   "cell_type": "code",
   "execution_count": null,
   "id": "0dc46e6c",
   "metadata": {},
   "outputs": [],
   "source": [
    "class Dog:\n",
    "    \n",
    "    def __init__(self, name , breed):\n",
    "        self.__name = name\n",
    "        self.breed = breed\n",
    "        \n",
    "    @property\n",
    "    def dog_name(self):\n",
    "        return self.__name\n",
    "    \n",
    "    @dog_name.setter\n",
    "    def dog_name_set(self,name):\n",
    "        self.__name = name\n",
    "        \n",
    "    \n",
    "    @dog_name.deleter\n",
    "    def cdog_name_del(self):\n",
    "        del self.__name\n",
    "        "
   ]
  },
  {
   "cell_type": "markdown",
   "id": "08bb25e5",
   "metadata": {},
   "source": [
    "Q5.What is method overriding in python? Write a python code to demonstrate method overriding. "
   ]
  },
  {
   "cell_type": "markdown",
   "id": "ba8a19d0",
   "metadata": {},
   "source": [
    "    Method Overriding in Python is an OOPs concept closely related to inheritance. When a child class method overrides(or, provides it's own implementation) the parent class method of the same name, parameters and return type, it is known as method overriding."
   ]
  },
  {
   "cell_type": "code",
   "execution_count": 6,
   "id": "3f202443",
   "metadata": {},
   "outputs": [],
   "source": [
    "class one():\n",
    "    def method(self):\n",
    "        print(\"Method Inside Class One\")\n",
    "        \n",
    "class two(one):\n",
    "    def method(self):\n",
    "        print(\"Method Inside Class Two\")"
   ]
  },
  {
   "cell_type": "code",
   "execution_count": 7,
   "id": "2edd3911",
   "metadata": {},
   "outputs": [],
   "source": [
    "obj2= two()"
   ]
  },
  {
   "cell_type": "code",
   "execution_count": 8,
   "id": "ee56c3a4",
   "metadata": {},
   "outputs": [
    {
     "name": "stdout",
     "output_type": "stream",
     "text": [
      "Method Inside Class Two\n"
     ]
    }
   ],
   "source": [
    "obj2.method()"
   ]
  }
 ],
 "metadata": {
  "kernelspec": {
   "display_name": "Python 3 (ipykernel)",
   "language": "python",
   "name": "python3"
  },
  "language_info": {
   "codemirror_mode": {
    "name": "ipython",
    "version": 3
   },
   "file_extension": ".py",
   "mimetype": "text/x-python",
   "name": "python",
   "nbconvert_exporter": "python",
   "pygments_lexer": "ipython3",
   "version": "3.9.13"
  }
 },
 "nbformat": 4,
 "nbformat_minor": 5
}
