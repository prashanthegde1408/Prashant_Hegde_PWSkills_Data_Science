{
 "cells": [
  {
   "cell_type": "markdown",
   "id": "0bfca353",
   "metadata": {},
   "source": [
    "# This is 10th Feb assignment, But in the section its given as OOPS assignment, but all the questions are related to Files Modules."
   ]
  },
  {
   "cell_type": "markdown",
   "id": "44ed6489",
   "metadata": {},
   "source": [
    "Q1. Which function is used to open a file? What are the different modes of opening a file? Explain each mode  of file opening. \n",
    "\n",
    "    open() function is used to open the file.\n",
    "    \n",
    "    Different modes of opening the file are:\n",
    "    \n",
    "    'r'       open for reading (default)\n",
    "    'w'       open for writing, truncating the file first\n",
    "    'x'       create a new file and open it for writing\n",
    "    'a'       open for writing, appending to the end of the file if it exists\n",
    "    'b'       binary mode\n",
    "    't'       text mode (default)\n",
    "    '+'       open a disk file for updating (reading and writing)\n",
    "    \n",
    "    Examples:"
   ]
  },
  {
   "cell_type": "code",
   "execution_count": null,
   "id": "8ba3ed7b",
   "metadata": {},
   "outputs": [],
   "source": [
    "f = open(\"question1.txt\",'w')\n",
    "f.write(\"This is as example\")\n",
    "f.close()"
   ]
  },
  {
   "cell_type": "code",
   "execution_count": null,
   "id": "dfb798a7",
   "metadata": {},
   "outputs": [],
   "source": [
    "with open(\"question1_example2.txt\",\"w\") as f:\n",
    "    f.write(\"This is also an example\")"
   ]
  },
  {
   "cell_type": "markdown",
   "id": "691c3b93",
   "metadata": {},
   "source": [
    "Q2. Why close() function is used? Why is it important to close a file? \n",
    "\n",
    "    close() is used to close the file which is opened earlier in the python program. Its very important to close the file.\n",
    "    Changes made to the file may not show up until the file is closed.\n",
    "    It can crash the whole program\n",
    "    When working on a large project, if the files are not closed, we will reach the imit for open files, and python gives us generic error, and it would become difficult to troubleshoot the issue."
   ]
  },
  {
   "cell_type": "markdown",
   "id": "a41d5240",
   "metadata": {},
   "source": [
    "Q3. Write a python program to create a text file. Write ‘I want to become a Data Scientist’ in that file. Then  close the file. Open this file and read the content of the file.   "
   ]
  },
  {
   "cell_type": "code",
   "execution_count": null,
   "id": "3a983506",
   "metadata": {},
   "outputs": [],
   "source": [
    "#Creating the file and writing\n",
    "with open(\"test.txt\",\"w\") as f:\n",
    "    f.write(\"I want to become a Data Scientist\")\n",
    "\n",
    "\n",
    "#Opening the file and reading, and printing\n",
    "with open(\"test.txt\",'r') as f:\n",
    "    print(f.read())"
   ]
  },
  {
   "cell_type": "markdown",
   "id": "6a829a10",
   "metadata": {},
   "source": [
    "Q4. Explain the following with python code: read(), readline() and readlines(). \n",
    "\n",
    "The read method returns a string that contains all the characters of the file mentioned. There are no mandatory parameters to this function, but if you want to read a certain number of characters from the file, you can specify them as a parameter.\n",
    "    \n",
    "read() : read at most n characters from stream, Read from underlying buffer until we have n characters or we hit EOF, If n is negative or omitted, read until EOF.\n",
    "    \n",
    "readline() function only reads a single line from a file and returns it in the form of a string.\n",
    "    \n",
    "readline() : Read until newline or EOF. Returns an empty string if EOF is hit immediately.\n",
    "    \n",
    "readlines() is a function in Python that helps us read all the lines simultaneously and return them as a string element. If we have to get the contents of any file as a string, readlines() will be the function of choice.\n",
    "    \n",
    "readlines(hint=-1, /): Return a list of lines from the stream,hint can be specified to control the number of lines read: no more lines will be read if the total size (in bytes/characters) of all lines so far exceeds hint."
   ]
  },
  {
   "cell_type": "markdown",
   "id": "c8bbe80f",
   "metadata": {},
   "source": [
    "Q5. Explain why with statement is used with open(). What is the advantage of using with statement and  open() together? "
   ]
  },
  {
   "cell_type": "code",
   "execution_count": null,
   "id": "0e127586",
   "metadata": {},
   "outputs": [],
   "source": [
    "#     with statement in python aims to simplify the process of opening and closing the file.\n",
    "#     It handles the memory allocation and deallocation automatically.\n",
    "#     It enables us to write cleaner and safer code.\n",
    "#     When the with block is executed it automatically closes the file even when an exception is raised.\n",
    "#     If with is not used then it is the responsibility of the programmer to close the file.\n",
    "#     If the file is not closed then the performed operations will not be saved on the file."
   ]
  },
  {
   "cell_type": "markdown",
   "id": "c0b73167",
   "metadata": {},
   "source": [
    "Q6. Explain the write() and writelines() functions. Give a suitable example. \n",
    "\n",
    "    write() method for inserting a string to a single line in a text file.\n",
    "    writelines() method for inserting multiple strings from a list of strings to the text file simultaneously."
   ]
  },
  {
   "cell_type": "code",
   "execution_count": null,
   "id": "28185cf8",
   "metadata": {},
   "outputs": [],
   "source": [
    "#Creating the file and writing\n",
    "with open(\"answer6.txt\",\"w\") as f:\n",
    "    f.write(\"I want to become a Data Scientist\")\n",
    "\n",
    "\n",
    "#Opening the file and reading, and printing\n",
    "with open(\"test.txt\",'r') as f:\n",
    "    print(f.read())"
   ]
  },
  {
   "cell_type": "markdown",
   "id": "ec6b9a56",
   "metadata": {},
   "source": [
    "When we are using the write(), we have to be careful. because if we use write() with 'w' mode, it will always overwrite the exissting file. If we want to append to new file, we will have to open it in 'a' mode.\n",
    "\n",
    "Constantly using file.write() for every line that we want to write to your file can get difficult. Hence, we can use the writelines() function.\n",
    "\n",
    "A simple way to use it, is to provide a list of strings as a parameter to writelines(), as writelines()basically used to write content of list to a file"
   ]
  },
  {
   "cell_type": "code",
   "execution_count": null,
   "id": "2f07e4ad",
   "metadata": {},
   "outputs": [],
   "source": [
    "lines = [\"one\", \"Two\", \"Three\"]\n",
    "with open(\"question6.txt\",'w') as f:\n",
    "    f.writelines(lines)\n",
    "    \n",
    "with open(\"question6.txt\",'r') as f:\n",
    "    print(f.read())"
   ]
  }
 ],
 "metadata": {
  "kernelspec": {
   "display_name": "Python 3 (ipykernel)",
   "language": "python",
   "name": "python3"
  },
  "language_info": {
   "codemirror_mode": {
    "name": "ipython",
    "version": 3
   },
   "file_extension": ".py",
   "mimetype": "text/x-python",
   "name": "python",
   "nbconvert_exporter": "python",
   "pygments_lexer": "ipython3",
   "version": "3.9.13"
  }
 },
 "nbformat": 4,
 "nbformat_minor": 5
}
