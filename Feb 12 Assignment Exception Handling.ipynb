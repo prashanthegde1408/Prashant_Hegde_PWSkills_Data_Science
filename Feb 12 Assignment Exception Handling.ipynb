{
 "cells": [
  {
   "cell_type": "markdown",
   "id": "6ee63232",
   "metadata": {},
   "source": [
    "Q1. What is an Exeption in python? Write the difference  between Exeptions and syntax errors\n",
    "\n",
    "Errors are problems that occur in the program due to an illegal operation performed by the user or by the fault of a programmer, which halts the normal flow of the program.\n",
    "\n",
    "In python, an exception is a class that represents error. Exceptions are errors that are detected during execution. Whenever there is an error in a program, exceptions are raised.If these exceptions are not handled, it drives the program into a halt state. Exception handling is required to prevent the program from terminating abruptly. \n",
    "\n",
    "A syntax error is one of the most basic types of error in programming. Whenever we do not write the proper syntax of the python programming language then the python interpreter or parser throws an error known as a syntax error. The syntax error simply means that the python parser is unable to understand a line of code.\n",
    "\n",
    "Syntax Errors are complie time errors, while Exceptions(logical error) can not be caught during complication, its run time error."
   ]
  },
  {
   "cell_type": "markdown",
   "id": "5f2ec50f",
   "metadata": {},
   "source": [
    "\n",
    "\n",
    "\n",
    "\n",
    "\n",
    "Q2. What happens when an exception is not handled ? Explain with example\n",
    "\n",
    "If the exceptions are not handled, our application or programs go into a crash state. Since Exceptions are basically errors they will stop the execution of the program where its found.\n",
    "\n",
    "\n",
    "Ex: if the below code is executed, it will throw an error, no matter what we have written after the first line, it wont executed, proogram will stop the control flow, and throws the exception.\n"
   ]
  },
  {
   "cell_type": "code",
   "execution_count": 1,
   "id": "3652961c",
   "metadata": {},
   "outputs": [],
   "source": [
    "#1/0\n",
    "#print(\"I dont get printed because of error\")"
   ]
  },
  {
   "cell_type": "markdown",
   "id": "2e87f093",
   "metadata": {},
   "source": [
    "Q3. Which python statements are used to catch and hanlde exceptions? Explain with example\n",
    "\n",
    "Try&Except block is used for exception handling in python.\n",
    "\n",
    "Try block allows us to write the code that is prone to exceptions or errors. If any exception occurs inside the try block, the except block is triggered, in which we can handle the exception as now the code will not go into a halt state but the control will flow into the except block where it can be manually handled.\n",
    "\n",
    "except block is triggered when an exception is raised inside try block."
   ]
  },
  {
   "cell_type": "code",
   "execution_count": 2,
   "id": "775ac8e4",
   "metadata": {},
   "outputs": [
    {
     "name": "stdout",
     "output_type": "stream",
     "text": [
      "some exception occured, and thrown exception is - > division by zero\n"
     ]
    }
   ],
   "source": [
    "def devide_numbers(a, b):\n",
    "   return a/b\n",
    " \n",
    "try:\n",
    "   devide_numbers(10, 0)\n",
    "except Exception as e:\n",
    "   print('some exception occured, and thrown exception is - >', e)\n"
   ]
  },
  {
   "cell_type": "markdown",
   "id": "dcb88680",
   "metadata": {},
   "source": [
    "Q4. Explain with an example:\n",
    "    \n",
    "    a.try and else\n",
    "    b.finally\n",
    "    c.raise"
   ]
  },
  {
   "cell_type": "markdown",
   "id": "363a1e04",
   "metadata": {},
   "source": [
    "TRY AND ELSE:\n",
    "\n",
    "ELSE block is executed only when try block gets executed without raising any exceptions.\n",
    "\n",
    "Sometimes we might have a use case where we want to run some specific code only when there are no exceptions. For such scenarios, the else keyword can be used with the try block.\n",
    "\n",
    "\n",
    "\n",
    "FINALLY:\n",
    "\n",
    "Finally is a keyword that is used along with try and except, when we have a piece of code that is to be run irrespective of if try raises an exception or not. Code inside finally will always run after try and catch.\n",
    "\n",
    "Irrespetive of what happens insdie try and catch block, finally will be executed.\n",
    "\n",
    "\n",
    "RAISE:\n",
    "\n",
    "Even though exceptions in python are automatically raised in runtime when some error occurs. Custom and predefined exceptions can also be thrown manually by raising it for specific conditions or a scenario using the raise keyword.\n"
   ]
  },
  {
   "cell_type": "code",
   "execution_count": 3,
   "id": "ff47eaf8",
   "metadata": {},
   "outputs": [
    {
     "name": "stdout",
     "output_type": "stream",
     "text": [
      "No exceptions are raised here\n",
      "I am getting executed as there is no exception raised insdie try block\n"
     ]
    }
   ],
   "source": [
    "#TRY AND ELSE:\n",
    "try:\n",
    "    print(\"No exceptions are raised here\")\n",
    "except:\n",
    "    print(\"I got an exception\")\n",
    "else:\n",
    "    print(\"I am getting executed as there is no exception raised insdie try block\")"
   ]
  },
  {
   "cell_type": "code",
   "execution_count": 4,
   "id": "76cd7d44",
   "metadata": {},
   "outputs": [
    {
     "name": "stdout",
     "output_type": "stream",
     "text": [
      "ohh, Its an exception - > division by zero\n",
      "I dont care that there is an exception, I will be executed\n"
     ]
    }
   ],
   "source": [
    "#FINALLY\n",
    "\n",
    "try:\n",
    "    1/0\n",
    "except Exception as e:\n",
    "    print(\"ohh, Its an exception - >\",e)\n",
    "else:\n",
    "    print(\"Sadly I dont executed as there is an exception\")\n",
    "finally:\n",
    "    print(\"I dont care that there is an exception, I will be executed\")"
   ]
  },
  {
   "cell_type": "code",
   "execution_count": 5,
   "id": "51766e51",
   "metadata": {},
   "outputs": [
    {
     "name": "stdout",
     "output_type": "stream",
     "text": [
      "You cant devide a number by zero\n"
     ]
    }
   ],
   "source": [
    "#RAISE\n",
    "\n",
    "try:\n",
    "    raise ZeroDivisionError(\"You cant devide a number by zero\")\n",
    "except Exception as e:\n",
    "    print(e)"
   ]
  },
  {
   "cell_type": "markdown",
   "id": "2601bdff",
   "metadata": {},
   "source": [
    "Q5. What are custom exceptions in Pythoon? Why do we need Custom exceptions? Explain with example.\n",
    "\n",
    "\n",
    "Even though exceptions in python are automatically raised in runtime when some error occurs. Custom and predefined exceptions can also be thrown manually by raising it for specific conditions or a scenario using the raise keyword. A custom exception is an exception that a programmer might raise if they have a requirement to break the flow of code in some specific scenario or condition. String messages supporting the reasons for raising an exception can also be provided to these custom exceptions.\n"
   ]
  },
  {
   "cell_type": "code",
   "execution_count": 6,
   "id": "91eee0a0",
   "metadata": {},
   "outputs": [
    {
     "name": "stdout",
     "output_type": "stream",
     "text": [
      "You cant devide a number by zero\n"
     ]
    }
   ],
   "source": [
    "#raising a predefined exception manually\n",
    "\n",
    "try:\n",
    "    raise ZeroDivisionError(\"You cant devide a number by zero\")\n",
    "except Exception as e:\n",
    "    print(e)"
   ]
  },
  {
   "cell_type": "code",
   "execution_count": 7,
   "id": "4829da40",
   "metadata": {},
   "outputs": [
    {
     "name": "stdout",
     "output_type": "stream",
     "text": [
      "Enter your age : 25\n",
      "25\n"
     ]
    }
   ],
   "source": [
    "class ValidateAge(Exception):\n",
    "    \n",
    "    def __init__(self, msg):\n",
    "        self.msg = msg\n",
    "        \n",
    "def validate_age_func(age):\n",
    "    if age<0:\n",
    "        raise ValidateAge(\"Age can not be less than Zero\")\n",
    "    elif age>200:\n",
    "        raise ValidateAge(\"Age might be too high!!!\")\n",
    "    else:\n",
    "        print(age)\n",
    "        \n",
    "\n",
    "try:\n",
    "    age = int(input(\"Enter your age : \"))\n",
    "    validate_age_func(age)\n",
    "except ValidateAge as e:\n",
    "    print(\"Error - >\",e)"
   ]
  },
  {
   "cell_type": "markdown",
   "id": "3d156f46",
   "metadata": {},
   "source": [
    "Q6. Create a custom exception class. Use this class to handle exception"
   ]
  },
  {
   "cell_type": "code",
   "execution_count": 8,
   "id": "08bfb448",
   "metadata": {},
   "outputs": [
    {
     "name": "stdout",
     "output_type": "stream",
     "text": [
      "Enter your age : 20\n",
      "20\n"
     ]
    }
   ],
   "source": [
    "class ValidateAge(Exception):\n",
    "    \n",
    "    def __init__(self, msg):\n",
    "        self.msg = msg\n",
    "        \n",
    "def validate_age_func(age):\n",
    "    if age<0:\n",
    "        raise ValidateAge(\"Age can not be less than Zero\")\n",
    "    elif age>200:\n",
    "        raise ValidateAge(\"Age might be too high!!!\")\n",
    "    else:\n",
    "        print(age)\n",
    "        \n",
    "\n",
    "try:\n",
    "    age = int(input(\"Enter your age : \"))\n",
    "    validate_age_func(age)\n",
    "except ValidateAge as e:\n",
    "    print(\"Error - >\",e)"
   ]
  }
 ],
 "metadata": {
  "kernelspec": {
   "display_name": "Python 3 (ipykernel)",
   "language": "python",
   "name": "python3"
  },
  "language_info": {
   "codemirror_mode": {
    "name": "ipython",
    "version": 3
   },
   "file_extension": ".py",
   "mimetype": "text/x-python",
   "name": "python",
   "nbconvert_exporter": "python",
   "pygments_lexer": "ipython3",
   "version": "3.9.13"
  }
 },
 "nbformat": 4,
 "nbformat_minor": 5
}
