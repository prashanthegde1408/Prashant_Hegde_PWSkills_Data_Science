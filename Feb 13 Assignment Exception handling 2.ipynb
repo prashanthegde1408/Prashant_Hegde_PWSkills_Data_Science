{
 "cells": [
  {
   "cell_type": "markdown",
   "id": "2a233d74",
   "metadata": {},
   "source": [
    "Q1. Explain why we have to use the Exception class while creating a Custom Exception. Note: Here Exception class refers to the base class for all the exceptions. "
   ]
  },
  {
   "cell_type": "markdown",
   "id": "ff93a31f",
   "metadata": {},
   "source": [
    "Exception is the base or super class that contains all exception types. Its a common base class for all non-exit exceptions. So when we are trying to create our own custom exception, we have to inherit the properties of the Exception parent class."
   ]
  },
  {
   "cell_type": "code",
   "execution_count": null,
   "id": "29361803",
   "metadata": {},
   "outputs": [],
   "source": [
    "##############################################################################################################################"
   ]
  },
  {
   "cell_type": "markdown",
   "id": "d3cbc710",
   "metadata": {},
   "source": [
    "Q2. Write a python program to print Python Exception Hierarchy."
   ]
  },
  {
   "cell_type": "code",
   "execution_count": null,
   "id": "55ae4dac",
   "metadata": {},
   "outputs": [],
   "source": [
    "import inspect\n",
    "\n",
    "def treeClass(cls, ind = 0):\n",
    "\n",
    "    print ('-' * ind, cls.__name__)\n",
    "\n",
    "    for i in cls.__subclasses__():\n",
    "        treeClass(i, ind + 3)\n",
    "\n",
    "print(\"Hierarchy for Built-in exceptions is : \")\n",
    "\n",
    "\n",
    "inspect.getclasstree(inspect.getmro(BaseException))\n",
    "\n",
    "\n",
    "treeClass(BaseException)\n"
   ]
  },
  {
   "cell_type": "code",
   "execution_count": null,
   "id": "ff03bfb1",
   "metadata": {},
   "outputs": [],
   "source": [
    "##############################################################################################################################"
   ]
  },
  {
   "cell_type": "markdown",
   "id": "c9f8a4ad",
   "metadata": {},
   "source": [
    "Q3. What errors are defined in the ArithmeticError class? Explain any two with an example"
   ]
  },
  {
   "cell_type": "markdown",
   "id": "a7a86e17",
   "metadata": {},
   "source": [
    "Errors defined in the ArithmeticError class are : FloatingPointError, OverflowError, ZeroDivisionError\n",
    "\n",
    "ZeroDivisionError : Second argument to a division or modulo operation was zero. ZeroDivisionError is raised by the Python interpreter when we try to divide any number by zero.\n",
    "\n",
    "FloatingPointError: FloatingPointError is raised when a floating-point operation fails.\n",
    "\n",
    "OverflowError: OverflowError is raised when the result of an arithmetic operation is too large/Result too large to be represented.\n"
   ]
  },
  {
   "cell_type": "code",
   "execution_count": null,
   "id": "9fa8e4d0",
   "metadata": {},
   "outputs": [],
   "source": [
    "#ZeroDivisionError\n",
    "import logging\n",
    "\n",
    "logging.basicConfig(filename =\"ZeroDivisionError.txt\", level = logging.ERROR)\n",
    "\n",
    "try:\n",
    "    a=10\n",
    "    b=0\n",
    "    a/b\n",
    "except ZeroDivisionError as e:\n",
    "    logging.error(\"Error found here: {} , {}\".format(type(e),e))\n",
    "    print(\"Error found here: {} , {}\".format(type(e),e))\n",
    "    \n",
    "logging.shutdown()"
   ]
  },
  {
   "cell_type": "code",
   "execution_count": null,
   "id": "0db72c04",
   "metadata": {},
   "outputs": [],
   "source": [
    "#OverflowError\n",
    "import logging\n",
    "import math\n",
    "\n",
    "logging.basicConfig(filename =\"OverflowError.txt\", level = logging.ERROR)\n",
    "\n",
    "try:\n",
    "    math.exp(10000)\n",
    "except OverflowError as e:\n",
    "    logging.error(\"Error found here: {} , {}\".format(type(e),e))\n",
    "    print(\"Error found here: {} , {}\".format(type(e),e))\n",
    "    \n",
    "logging.shutdown()"
   ]
  },
  {
   "cell_type": "code",
   "execution_count": null,
   "id": "e35255b9",
   "metadata": {},
   "outputs": [],
   "source": [
    "##############################################################################################################################"
   ]
  },
  {
   "cell_type": "markdown",
   "id": "08ba068c",
   "metadata": {},
   "source": [
    " Q4. Why LookupError class is used? Explain with an example KeyError and IndexError. "
   ]
  },
  {
   "cell_type": "markdown",
   "id": "1d67780c",
   "metadata": {},
   "source": [
    "LookupError class is the base class for the exceptions that are raised when a key or index used on a mapping or sequence is invalid.\n",
    "\n",
    "IndexError: Raised when a sequence subscript is out of range.\n",
    "\n",
    "KeyError: Raised when a mapping (dictionary) key is not found in the set of existing keys."
   ]
  },
  {
   "cell_type": "code",
   "execution_count": null,
   "id": "314a825e",
   "metadata": {},
   "outputs": [],
   "source": [
    "#IndexError\n",
    "\n",
    "import logging\n",
    "\n",
    "logging.basicConfig(filename =\"IndexError.txt\", level= logging.ERROR)\n",
    "\n",
    "try:\n",
    "    List = [1,2,3,4]\n",
    "    index = List[4]\n",
    "except IndexError as e:\n",
    "    print(\"Error found here: {} , {}\".format(type(e),e))\n",
    "    logging.error(\"Error found here: {} , {}\".format(type(e),e))"
   ]
  },
  {
   "cell_type": "code",
   "execution_count": null,
   "id": "803d9f5a",
   "metadata": {},
   "outputs": [],
   "source": [
    "#KeyError\n",
    "\n",
    "import logging\n",
    "\n",
    "logging.basicConfig(filename =\"KeyError.txt\", level= logging.ERROR)\n",
    "\n",
    "try:\n",
    "    Dict = {'key1':'value1'}\n",
    "    key = Dict['key2']\n",
    "except KeyError as e:\n",
    "    print(\"Error found here: {} , {}\".format(type(e),e))\n",
    "    logging.error(\"Error found here: {} , {}\".format(type(e),e))"
   ]
  },
  {
   "cell_type": "code",
   "execution_count": null,
   "id": "e17c6956",
   "metadata": {},
   "outputs": [],
   "source": [
    "##############################################################################################################################"
   ]
  },
  {
   "cell_type": "markdown",
   "id": "27b9fabb",
   "metadata": {},
   "source": [
    "Q5. Explain ImportError. What is ModuleNotFoundError? "
   ]
  },
  {
   "cell_type": "markdown",
   "id": "3a1f8442",
   "metadata": {},
   "source": [
    "ImportError: Raised when the import statement has troubles trying to load a module. Also raised when the “from list” in from ... import has a name that cannot be found.\n",
    "\n",
    "\n",
    "ModuleNotFoundError : A subclass of ImportError which is raised by import when a module could not be located. It is also raised when None is found in sys.modules."
   ]
  },
  {
   "cell_type": "code",
   "execution_count": null,
   "id": "4f955d7d",
   "metadata": {},
   "outputs": [],
   "source": [
    "#ModuleNotFoundError\n",
    "\n",
    "import logging\n",
    "\n",
    "logging.basicConfig(filename =\"ModuleNotFoundError.txt\", level= logging.ERROR)\n",
    "\n",
    "try:\n",
    "    import ModuleThatDoesNotExist\n",
    "except ModuleNotFoundError as e:\n",
    "    print(\"Error found here: {} , {}\".format(type(e),e))\n",
    "    logging.error(\"Error found here: {} , {}\".format(type(e),e))"
   ]
  },
  {
   "cell_type": "code",
   "execution_count": null,
   "id": "47b2e984",
   "metadata": {},
   "outputs": [],
   "source": [
    "##############################################################################################################################"
   ]
  },
  {
   "cell_type": "markdown",
   "id": "c8e64e2a",
   "metadata": {},
   "source": [
    "Q6. List down some best practices for exception handling in python. \n"
   ]
  },
  {
   "cell_type": "markdown",
   "id": "18b63841",
   "metadata": {},
   "source": [
    "1. Always uses pecfic exception, Do not use the base class Exception\n",
    "2. Always print a valid message\n",
    "3. Always try to log the error and the message using logger\n",
    "4. Always avoid writing multiple exception handle clauses/Try to catch the precise exception type, not the vauge Exception class\n",
    "5. Use Context Managers to simplify repetitive exception handling logic"
   ]
  }
 ],
 "metadata": {
  "kernelspec": {
   "display_name": "Python 3 (ipykernel)",
   "language": "python",
   "name": "python3"
  },
  "language_info": {
   "codemirror_mode": {
    "name": "ipython",
    "version": 3
   },
   "file_extension": ".py",
   "mimetype": "text/x-python",
   "name": "python",
   "nbconvert_exporter": "python",
   "pygments_lexer": "ipython3",
   "version": "3.9.13"
  }
 },
 "nbformat": 4,
 "nbformat_minor": 5
}
