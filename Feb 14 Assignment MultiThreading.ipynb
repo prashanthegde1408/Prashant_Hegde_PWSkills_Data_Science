{
 "cells": [
  {
   "cell_type": "markdown",
   "id": "94db739c",
   "metadata": {},
   "source": [
    "Q1. What is multithreading in python?  Why is it used? Name the module used to handle threads in python "
   ]
  },
  {
   "cell_type": "markdown",
   "id": "cc07ddec",
   "metadata": {},
   "source": [
    "Multithreading in Python is a popular technique that enables multiple tasks to be executed simultaneously. In simple words, the ability of a processor to execute multiple threads simultaneously is known as multithreading."
   ]
  },
  {
   "cell_type": "markdown",
   "id": "65518b87",
   "metadata": {},
   "source": [
    "Python multithreading facilitates sharing data space and resources of multiple threads with the main thread. It allows efficient and easy communication between the threads."
   ]
  },
  {
   "cell_type": "markdown",
   "id": "ae819ecf",
   "metadata": {},
   "source": [
    "Threading module is used to handle threads in Python"
   ]
  },
  {
   "cell_type": "code",
   "execution_count": null,
   "id": "e60c8b59",
   "metadata": {},
   "outputs": [],
   "source": [
    "import threading"
   ]
  },
  {
   "cell_type": "code",
   "execution_count": null,
   "id": "d855c9f0",
   "metadata": {},
   "outputs": [],
   "source": [
    "###############################################################################################################"
   ]
  },
  {
   "cell_type": "markdown",
   "id": "3e56e265",
   "metadata": {},
   "source": [
    "Q2. Why threading module used?  Write the use of the following functions\n",
    "\n",
    "1. activeCount\n",
    "2. currentThread\n",
    "3. currentThread"
   ]
  },
  {
   "cell_type": "markdown",
   "id": "4eee07a9",
   "metadata": {},
   "source": [
    "threading module is used for multi-threading in python."
   ]
  },
  {
   "cell_type": "markdown",
   "id": "357ea774",
   "metadata": {},
   "source": [
    "threading.activeCount() − This returns the number of active thread objects.\n",
    "\n",
    "threading.currentThread() − This returns the number of objects that are under the thread control of the caller.\n",
    "\n",
    "threading.enumerate() −This returns the list of all thread objects that are presently active"
   ]
  },
  {
   "cell_type": "code",
   "execution_count": null,
   "id": "a70f530c",
   "metadata": {},
   "outputs": [],
   "source": [
    "###############################################################################################################"
   ]
  },
  {
   "cell_type": "markdown",
   "id": "9ae39083",
   "metadata": {},
   "source": [
    "Q3. Explain the following functions\n",
    "\n",
    "1. run()\n",
    "2. start()\n",
    "3. join()\n",
    "4. isAlive()"
   ]
  },
  {
   "cell_type": "markdown",
   "id": "4baa5e29",
   "metadata": {},
   "source": [
    "-> run()\n",
    "\n",
    "Method representing the thread’s activity.\n",
    "\n",
    "We can override this method in a subclass. The standard run() method invokes the callable object passed to the object’s constructor as the target argument, if any, with positional and keyword arguments taken from the args and kwargs arguments, respectively.\n",
    "\n",
    "Using list or tuple as the args argument which passed to the Thread could achieve the same effect."
   ]
  },
  {
   "cell_type": "markdown",
   "id": "094db417",
   "metadata": {},
   "source": [
    "-> start()\n",
    "\n",
    "Start the thread’s activity.\n",
    "\n",
    "It must be called at most once per thread object. It arranges for the object’s run() method to be invoked in a separate thread of control."
   ]
  },
  {
   "cell_type": "markdown",
   "id": "f05e11c8",
   "metadata": {},
   "source": [
    "-> join(timeout=None)\n",
    "\n",
    "Wait until the thread terminates. This blocks the calling thread until the thread whose join() method is called terminates – either normally or through an unhandled exception – or until the optional timeout occurs.\n",
    "\n",
    "When the timeout argument is present and not None, it should be a floating point number specifying a timeout for the operation in seconds (or fractions thereof). As join() always returns None, you must call is_alive() after join() to decide whether a timeout happened – if the thread is still alive, the join() call timed out.\n",
    "\n",
    "When the timeout argument is not present or None, the operation will block until the thread terminates.\n",
    "\n",
    "A thread can be joined many times."
   ]
  },
  {
   "cell_type": "code",
   "execution_count": null,
   "id": "6a5f92a9",
   "metadata": {},
   "outputs": [],
   "source": [
    "###############################################################################################################"
   ]
  },
  {
   "cell_type": "markdown",
   "id": "ab6ccc3e",
   "metadata": {},
   "source": [
    "Q4. Write a python program to create two threads. Thread one must print the list of squares and thread two must print the list of cubes"
   ]
  },
  {
   "cell_type": "code",
   "execution_count": null,
   "id": "7bac0fdc",
   "metadata": {},
   "outputs": [],
   "source": [
    "import threading\n",
    "\n",
    "List = [1,2,3,4,5]\n",
    "List_square = []\n",
    "List_cube = []\n",
    "\n",
    "def square(n):\n",
    "    List_square.append(n**2)\n",
    "    \n",
    "def cube(n):\n",
    "    List_cube.append(n**3)\n",
    "    \n",
    "thread1 = [ threading.Thread(target= square, args=(n,)) for n in List ]\n",
    "\n",
    "thread2 = [threading.Thread(target= cube, args=(n,)) for n in List ]\n",
    "\n",
    "for t in thread1:\n",
    "    t.start()\n",
    "    \n",
    "for t in thread2:\n",
    "    t.start()\n",
    "\n",
    "print(List_square)\n",
    "\n",
    "print(List_cube)\n"
   ]
  },
  {
   "cell_type": "code",
   "execution_count": null,
   "id": "2e809e1d",
   "metadata": {},
   "outputs": [],
   "source": [
    "###############################################################################################################"
   ]
  },
  {
   "cell_type": "markdown",
   "id": "6f6726e0",
   "metadata": {},
   "source": [
    "Q5. State advantages and disadvantages of multithreading "
   ]
  },
  {
   "cell_type": "markdown",
   "id": "acf33bb8",
   "metadata": {},
   "source": [
    "Advantages of Multithreading in Python are:\n",
    "    \n",
    "1. Python multithreading enables efficient utilization of the resources as the threads share the data space and memory.\n",
    "\n",
    "2. Multithreading in Python allows the concurrent and parallel occurrence of various tasks.\n",
    "\n",
    "3. It causes a reduction in time consumption or response time, thereby increasing the performance."
   ]
  },
  {
   "cell_type": "markdown",
   "id": "4479fc6c",
   "metadata": {},
   "source": [
    "Disadvantages of Multithreading in Python are:\n",
    "\n",
    "The main limitation of python threads lies in Global interpreter lock. GIL restricts the execution of more than one thread simultaneously. So even if you have multiple processors, they are just being wasted.\n",
    "\n",
    "Generic disadvantages of multi threaded programming also applies to python.\n",
    "\n",
    "1. Difficulty of writing code\n",
    "Multithreaded and multicontexted applications are not easy to write. Only experienced programmers should undertake coding for these types of applications.\n",
    "\n",
    "\n",
    "2. Difficulty of debugging\n",
    "It is much harder to replicate an error in a multithreaded or multicontexted application than it is to do so in a single-threaded, single-contexted application. As a result, it is more difficult, in the former case, to identify and verify root causes when errors occur.\n",
    "\n",
    "\n",
    "3. Difficulty of managing concurrency\n",
    "The task of managing concurrency among threads is difficult and has the potential to introduce new problems into an application.\n",
    "\n",
    "\n",
    "4. Difficulty of testing\n",
    "Testing a multithreaded application is more difficult than testing a single-threaded application because defects are often timing-related and more difficult to reproduce.\n",
    "\n",
    "\n",
    "5. Difficulty of porting existing code\n",
    "Existing code often requires significant re-architecting to take advantage of multithreading and multicontexting."
   ]
  },
  {
   "cell_type": "code",
   "execution_count": null,
   "id": "aabfc686",
   "metadata": {},
   "outputs": [],
   "source": [
    "###############################################################################################################"
   ]
  },
  {
   "cell_type": "markdown",
   "id": "af1ba3ba",
   "metadata": {},
   "source": [
    "Q6. Explain deadlocks and race conditions. "
   ]
  },
  {
   "cell_type": "markdown",
   "id": "25c020ac",
   "metadata": {},
   "source": [
    "A thread can have one of the following two states –\n",
    "\n",
    "1. Locked\n",
    "2. Unlocked\n",
    "\n",
    "The class that is used to implement primitive locks is known as Lock. Lock objects are created to make the threads run synchronously. Only one thread at a time can have a lock."
   ]
  },
  {
   "cell_type": "markdown",
   "id": "f5b41ad5",
   "metadata": {},
   "source": [
    "A deadlock is a concurrency failure mode where a thread or threads wait for a condition that never occurs. \n",
    "\n",
    "Due to the threads that keep on attempting to get multiple locks at once, these are very much prone to deadlocks. A lock is already been acquired by a thread and then a second lock is attempted by the block then in that case, the program can freeze as the thread can potentially block the progress of other threads.\n",
    "\n",
    "\n"
   ]
  },
  {
   "cell_type": "markdown",
   "id": "ee4f2054",
   "metadata": {},
   "source": [
    "Race Conditions: \n",
    "\n",
    "Race conditions are one of the primary issues you will face while working with multithreading in Python.\n",
    "\n",
    "Most commonly, race conditions happen when two or more threads access the shared piece of data and resource. In real-time multithreading in Python, it can occur when threads overlap. The solution to this is synchronizing threads which we will see further."
   ]
  }
 ],
 "metadata": {
  "kernelspec": {
   "display_name": "Python 3 (ipykernel)",
   "language": "python",
   "name": "python3"
  },
  "language_info": {
   "codemirror_mode": {
    "name": "ipython",
    "version": 3
   },
   "file_extension": ".py",
   "mimetype": "text/x-python",
   "name": "python",
   "nbconvert_exporter": "python",
   "pygments_lexer": "ipython3",
   "version": "3.9.13"
  }
 },
 "nbformat": 4,
 "nbformat_minor": 5
}
