{
 "cells": [
  {
   "cell_type": "markdown",
   "id": "0e2b4fdd",
   "metadata": {},
   "source": [
    "Q1. What is multiprocessing in python? Why is it useful?  "
   ]
  },
  {
   "cell_type": "markdown",
   "id": "23623f92",
   "metadata": {},
   "source": [
    "The ability of a processor to execute several unrelated processes simultaneously is known as multiprocessing. These processes do not share any resources.\n",
    "\n",
    "Multiprocessing breaks down processes into smaller routines that run independently. The more tasks a single processor is burdened with, the more difficult it becomes for the processor to keep track of them. It evidently gives rise to the need for multiprocessing. Multiprocessing tries to ensure that every processor gets its own processor/processor core and that execution is hassle-free."
   ]
  },
  {
   "cell_type": "code",
   "execution_count": null,
   "id": "19f22f6f",
   "metadata": {},
   "outputs": [],
   "source": [
    "###############################################################################################################################"
   ]
  },
  {
   "cell_type": "markdown",
   "id": "eeb5873c",
   "metadata": {},
   "source": [
    "Q2. What are the differences between multiprocessing and multithreading? "
   ]
  },
  {
   "cell_type": "markdown",
   "id": "decead43",
   "metadata": {},
   "source": [
    "Multithreading VS Multiprocessing\n",
    "\n",
    "Multithreading ->\n",
    "It is a technique where a process spawns multiple threads simultaneously.\n",
    "\n",
    "Multiprocessing ->\n",
    "It is the technique where multiple processes run across multiple processors/processor cores simultaneously.\n",
    "\n",
    "Multithreading ->\n",
    "Python multithreading implements concurrency.\t\n",
    "Multiprocessing ->\n",
    "Python multiprocessing implements parallelism in its truest form.\n",
    "\n",
    "Multithreading ->\n",
    "It gives the illusion that they are running parallelly, but they work in a concurrent manner.\t\n",
    "Multiprocessing ->\n",
    "It is parallel in the sense that the multiprocessing module facilitates the running of independent processes parallelly by using subprocesses.\n",
    "\n",
    "Multithreading ->\n",
    "In multithreading, the GIL or Global Interpreter Lock prevents the threads from running simultaneously.\t\n",
    "Multiprocessing ->\n",
    "In multiprocessing, each process has its own Python Interpreter performing the execution."
   ]
  },
  {
   "cell_type": "code",
   "execution_count": null,
   "id": "6b17631e",
   "metadata": {},
   "outputs": [],
   "source": [
    "###############################################################################################################################"
   ]
  },
  {
   "cell_type": "markdown",
   "id": "820e0698",
   "metadata": {},
   "source": [
    "Q3. Write a python code to create a process using the multiprocessing module. "
   ]
  },
  {
   "cell_type": "code",
   "execution_count": null,
   "id": "af3160e4",
   "metadata": {},
   "outputs": [],
   "source": [
    "import multiprocessing\n",
    "\n",
    "def test():\n",
    "    print(\"This is my multi processing function\")\n",
    "    \n",
    "    \n",
    "if __name__ == \"__main__\":\n",
    "    m = multiprocessing.Process(target=test)\n",
    "    print(\"This is my main program\")\n",
    "    m.start()\n",
    "    m.join()"
   ]
  },
  {
   "cell_type": "code",
   "execution_count": null,
   "id": "9cc07df2",
   "metadata": {},
   "outputs": [],
   "source": [
    "###############################################################################################################################"
   ]
  },
  {
   "cell_type": "markdown",
   "id": "186e2a5c",
   "metadata": {},
   "source": [
    "Q5. How can we create a pool of worker processes in python using the multiprocessing module? "
   ]
  },
  {
   "cell_type": "markdown",
   "id": "a451ae51",
   "metadata": {},
   "source": [
    "Pool object which offers a convenient means of parallelizing the execution of a function across multiple input values, distributing the input data across processes.\n",
    "\n",
    "One can create a pool of processes which will carry out tasks submitted to it with the Pool class.\n",
    "\n",
    "A process pool object which controls a pool of worker processes to which jobs can be submitted. It supports asynchronous results with timeouts and callbacks and has a parallel map implementation."
   ]
  },
  {
   "cell_type": "code",
   "execution_count": null,
   "id": "57ff8eeb",
   "metadata": {},
   "outputs": [],
   "source": [
    "from multiprocessing import Pool\n",
    "\n",
    "def f(x):\n",
    "    return x*x\n",
    "\n",
    "if __name__ == '__main__':\n",
    "    with Pool(5) as p:\n",
    "        print(p.map(f, [1, 2, 3]))"
   ]
  },
  {
   "cell_type": "code",
   "execution_count": null,
   "id": "be086b0c",
   "metadata": {},
   "outputs": [],
   "source": [
    "###############################################################################################################################"
   ]
  },
  {
   "cell_type": "markdown",
   "id": "61c37614",
   "metadata": {},
   "source": [
    "Q6. Write a python program to create 4 processes, each process should print a different number using the  multiprocessing module in python. "
   ]
  },
  {
   "cell_type": "code",
   "execution_count": null,
   "id": "3b6dce94",
   "metadata": {},
   "outputs": [],
   "source": [
    "import multiprocessing\n",
    "\n",
    "def print_num(n):\n",
    "    print(n)\n",
    "    \n",
    "    \n",
    "if __name__ == '__main__':\n",
    "    \n",
    "    m1 = multiprocessing.Process(target=print_num, args=(1,))\n",
    "    m1.start()\n",
    "    m1.join()\n",
    "    \n",
    "    m2 = multiprocessing.Process(target=print_num, args=(2,))\n",
    "    m2.start()\n",
    "    m2.join()\n",
    "    \n",
    "    m3 = multiprocessing.Process(target=print_num, args=(3,))\n",
    "    m3.start()\n",
    "    m3.join()\n",
    "    \n",
    "    m4 = multiprocessing.Process(target=print_num, args=(4,))\n",
    "    m4.start()\n",
    "    m4.join()\n",
    "    "
   ]
  }
 ],
 "metadata": {
  "kernelspec": {
   "display_name": "Python 3 (ipykernel)",
   "language": "python",
   "name": "python3"
  },
  "language_info": {
   "codemirror_mode": {
    "name": "ipython",
    "version": 3
   },
   "file_extension": ".py",
   "mimetype": "text/x-python",
   "name": "python",
   "nbconvert_exporter": "python",
   "pygments_lexer": "ipython3",
   "version": "3.9.13"
  }
 },
 "nbformat": 4,
 "nbformat_minor": 5
}
