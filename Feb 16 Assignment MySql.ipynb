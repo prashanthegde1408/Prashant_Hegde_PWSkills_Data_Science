{
 "cells": [
  {
   "cell_type": "markdown",
   "id": "0d1c2cd9",
   "metadata": {},
   "source": [
    "Q1. What is a database? Differentiate between SQL and NoSQL databases. "
   ]
  },
  {
   "cell_type": "markdown",
   "id": "570595d6",
   "metadata": {},
   "source": [
    "Database is the collection of organized data that is structured or unstructured. The database's primary goal is to store a huge amount of data.\n",
    "\n",
    "\n",
    "SQL stands for Structured Query Language. We use SQL in a Relational Database Management System also known as RDBMS. RDBMS is a software used to store, manage, query, and fetch data stored in a relational database.\n",
    "\n",
    "In Relational databases, we store data in the form of tables, rows and columns and some of the tables are connected with each other with some relation.\n",
    "\n",
    "\n",
    "NoSQL stands for “Not Only SQL” or “Non SQL”. It is used in non-relational databases. As name suggests, data is not formed in form tables in NoSQL databases. Non relational databases are different from traditional relational databases. Here we store data in the form document which is a key value pair data structure. Consider the following image where the data is stored in the object.\n",
    "\n",
    "\n",
    "\n",
    "SQL\tVS No SQL\n",
    "\n",
    "SQL    - > It is a relational database.\t\n",
    "No SQL - > It is a non-relational database.\n",
    "\n",
    "SQL    - > Data is present in the form of tables, rows, and columns.\t\n",
    "No SQL - > Data is present in the form of collections and documents.\n",
    "\n",
    "SQL    - > Fixed schema design & structure.\t\n",
    "No SQL - > Dynamic schema design and structure.\n",
    "\n",
    "SQL    - > It is vertically scalable and there is a limit to scale.\t\n",
    "No SQL - > It is horizontally scalable with no limit to scale.\n",
    "\n",
    "SQL    - > Possible to perform the complex queries.\t\n",
    "No SQL - > Not possible to perform complex queries.\n",
    "\n",
    "SQL    - > It follows the ACID(Atomicity, Consistency, Isolation, Durability) property.\t\n",
    "No SQL - > It follows the CAP(Consistency, Availability, Partition tolerance) principle.\n",
    "\n",
    "SQL    - > Good support from vendors as well as consultancy for the deployment.\t\n",
    "No SQL - > It has a growing community so it is difficult to find experts for deployment.\n",
    "\n",
    "SQL    - > Eg. MySQL, PostgreSQL, Oracle, Microsoft SQL Server, etc.\t\n",
    "No SQL - > Eg. MongoDB, CouchDB, Neo4j, RavenDB, etc."
   ]
  },
  {
   "cell_type": "code",
   "execution_count": null,
   "id": "a562196d",
   "metadata": {},
   "outputs": [],
   "source": []
  },
  {
   "cell_type": "markdown",
   "id": "57710fbf",
   "metadata": {},
   "source": [
    "Q2. What is DDL? Explain why CREATE, DROP, ALTER, and TRUNCATE are used with an example."
   ]
  },
  {
   "cell_type": "markdown",
   "id": "0e17886d",
   "metadata": {},
   "source": [
    "SQL(Structured Query Language) commands are used to create and maintain Databases. Data Definition Language(DDL) is a type of SQL command used to define the components of databases using Database Management Systems.\n",
    "\n",
    "DDL in DBMS is used to create or modify the database objects like tables, views etc. These commands deal with defining a schema and adding a table description to it.\n",
    "\n",
    "DDL commands define the table structure and its column properties."
   ]
  },
  {
   "cell_type": "markdown",
   "id": "279602b5",
   "metadata": {},
   "source": [
    "Create\n",
    "\n",
    "CREATE is a DDL command in DBMS that is used to create tables or databases. While creating a table, we specify table names, column names, datatypes of each column, and column sizes. If there are any integrity constraints or key constraints of the table like PRIMARY KEY, UNIQUE, NOT NULL, etc. we must specify them while creating it along with the column names and details."
   ]
  },
  {
   "cell_type": "code",
   "execution_count": null,
   "id": "6ba0b678",
   "metadata": {},
   "outputs": [],
   "source": [
    "--Defining a new table using CREATE\n",
    "CREATE TABLE Students\n",
    "(\n",
    "    --Giving the column names and data type details of the table.\n",
    "    Roll_no INT PRIMARY KEY,\n",
    "    Name VARCHAR(20),\n",
    "    Age INT,\n",
    "    Address VARCHAR(30)\n",
    ");\n"
   ]
  },
  {
   "cell_type": "markdown",
   "id": "c602a814",
   "metadata": {},
   "source": [
    "Alter\n",
    "\n",
    "ALTER is a DDL command used to change the structure of an existing database table. Using this command we can perform operations like adding a new column, removing any column, adding or removing integrity constraints, or changing the data type of the existing column on the existing table. ALTER command is used to modify the existing structure of the table."
   ]
  },
  {
   "cell_type": "code",
   "execution_count": null,
   "id": "9409d41c",
   "metadata": {},
   "outputs": [],
   "source": [
    "ALTER TABLE Students ADD Date_Of_Birth  DATE;"
   ]
  },
  {
   "cell_type": "markdown",
   "id": "44ed010a",
   "metadata": {},
   "source": [
    "Truncate\n",
    "\n",
    "TRUNCATE is a DDL command used to delete all records from the table while keeping its structure intact. This command is used to get rid of all the records and free up the space being used by the table. However, the table's structure remains unchanged, including the column names and details. Thus, the table can be used to store new data in the future."
   ]
  },
  {
   "cell_type": "code",
   "execution_count": null,
   "id": "cfa8596f",
   "metadata": {},
   "outputs": [],
   "source": [
    "TRUNCATE TABLE Students;"
   ]
  },
  {
   "cell_type": "markdown",
   "id": "9009a2e3",
   "metadata": {},
   "source": [
    "Drop\n",
    "\n",
    "DROP is a DDL command used to delete an existing table completely from the database. This command deletes the table records along with their structure. The table and all its components are completely deleted and cannot be found again in the database."
   ]
  },
  {
   "cell_type": "markdown",
   "id": "b6a2b733",
   "metadata": {},
   "source": [
    "Q3. What is DML? Explain INSERT, UPDATE, and DELETE with an example."
   ]
  },
  {
   "cell_type": "markdown",
   "id": "77464b3e",
   "metadata": {},
   "source": [
    "The dml in dbms is one of the types of SQL queries. It stands for Data Manipulation Language. The DML commands in Structured Query Language (SQL) are responsible for making any change in the data present in SQL databases. The change can be anything, it can be inserting new records in the table, or altering the data present in the table or removing some existing data from the database table."
   ]
  },
  {
   "cell_type": "markdown",
   "id": "c5bf4a0d",
   "metadata": {},
   "source": [
    "Select:\n",
    "    \n",
    "SELECT is the most widely used data manipulation command in Structured Query Language for retrieving data from the table.\n",
    "\n",
    "It is used to fetch the data in a set of records from a table, view or a group of tables, views by making the use of SQL joins."
   ]
  },
  {
   "cell_type": "code",
   "execution_count": null,
   "id": "47b55e9c",
   "metadata": {},
   "outputs": [],
   "source": [
    "SELECT column_Name_1, column_Name_2, … FROM table_name;  \n",
    "\n",
    "SELECT * FROM student_details\n"
   ]
  },
  {
   "cell_type": "markdown",
   "id": "73b303b8",
   "metadata": {},
   "source": [
    "Insert\n",
    "\n",
    "INSERT is another important data manipulation command in Structured Query Language used to insert data into the rows of a table."
   ]
  },
  {
   "cell_type": "code",
   "execution_count": null,
   "id": "ddd2950f",
   "metadata": {},
   "outputs": [],
   "source": [
    "INSERT INTO table_name    \n",
    "(col_1, col_2,.... col_n)  \n",
    "VALUES (value_1, value_2, .... value_n);  \n",
    "\n",
    "\n",
    "\n",
    "INSERT INTO table_name    \n",
    "VALUES (value_1, value_2, .... value_n);  \n",
    "\n"
   ]
  },
  {
   "cell_type": "markdown",
   "id": "2114d4b2",
   "metadata": {},
   "source": [
    "Update:\n",
    "    \n",
    "UPDATE command is another important data manipulation command in Structured Query Language, it allows us to update or modify the existing data in tables. It changes the data from one or more records in a table."
   ]
  },
  {
   "cell_type": "code",
   "execution_count": null,
   "id": "72633bd0",
   "metadata": {},
   "outputs": [],
   "source": [
    "UPDATE table_name \n",
    "SET col_1 = value_1, col_2 = value_2,... \n",
    "WHERE condition;\n",
    "\n",
    "\n",
    "\n",
    "UPDATE student_details\n",
    "SET MARKS = 92\n",
    "WHERE ROLL_NO = 4;\n"
   ]
  },
  {
   "cell_type": "markdown",
   "id": "603c58e4",
   "metadata": {},
   "source": [
    "Delete:\n",
    "    \n",
    "DELETE is another useful data manipulation command in Structured Query Language, which allows us to remove single or multiple records from the database tables depending upon the condition we specify in the WHERE clause.\n",
    "\n",
    "If no condition is specified in the WHERE clause, then it will delete all the rows of a table."
   ]
  },
  {
   "cell_type": "code",
   "execution_count": null,
   "id": "d80581d3",
   "metadata": {},
   "outputs": [],
   "source": [
    "DELETE FROM table_name WHERE condition;\n"
   ]
  },
  {
   "cell_type": "markdown",
   "id": "6c23ab9c",
   "metadata": {},
   "source": [
    "Q4. What is DQL? Explain SELECT with an example. "
   ]
  },
  {
   "cell_type": "markdown",
   "id": "c0a83db1",
   "metadata": {},
   "source": [
    "DQL(Data Query Language): Data query language consists of only one command upon which data selection in SQL relies. The SELECT command in combination with other SQL clauses is used to retrieve and fetch data from databases/tables based on certain conditions applied by the user."
   ]
  },
  {
   "cell_type": "markdown",
   "id": "092ef2f2",
   "metadata": {},
   "source": [
    "Select:\n",
    "\n",
    "SELECT is the most widely used data manipulation command in Structured Query Language for retrieving data from the table.\n",
    "\n",
    "It is used to fetch the data in a set of records from a table, view or a group of tables, views by making the use of SQL joins."
   ]
  },
  {
   "cell_type": "code",
   "execution_count": null,
   "id": "db48f366",
   "metadata": {},
   "outputs": [],
   "source": [
    "SELECT column_Name_1, column_Name_2, … FROM table_name;  \n",
    "\n",
    "SELECT * FROM student_details\n"
   ]
  },
  {
   "cell_type": "markdown",
   "id": "e7a772f1",
   "metadata": {},
   "source": [
    "Q5. Explain Primary Key and Foreign Key. "
   ]
  },
  {
   "cell_type": "markdown",
   "id": "01e1357e",
   "metadata": {},
   "source": [
    "A Primary Key or Primary Key Constraint is a type of key that can uniquely identify each record (rows) of a table.\n",
    "\n",
    "A Primary Key is an attribute (or a collection of attributes) that can uniquely identify each row of a database table. A primary key that is composed using multiple columns is known as a Composite Primary Key. A database table can have only one primary key. A primary key must be unique in nature and it must not contain null values.\n",
    "\n",
    "According to the data present in the database, the primary key can be composed using a single column or multiple columns. The primary key composed using multiple columns is known as a Composite Primary Key. Whenever a composite primary key is formed, the least number of columns is selected so that query results can be found faster.\n",
    "\n"
   ]
  },
  {
   "cell_type": "markdown",
   "id": "a3a72d6a",
   "metadata": {},
   "source": [
    "To create a relationship between two tables, we primarily need two keys, one is the primary key, and the other is the foreign key.\n",
    "\n",
    "A primary key is a column or a group of columns that uniquely identifies a particular row in a table. For example, the University roll number identifies each student's data uniquely. The primary key values cannot be null or have duplicates, and one table can have only one primary key. However, this one primary key in a table can consist of single or multiple columns.\n",
    "\n",
    "A foreign key is a column or a group of columns in a table whose values are referenced from a primary key in another table. A primary key in SQL uniquely identifies records in a table. However, you must have a primary key for using a foreign key."
   ]
  },
  {
   "cell_type": "markdown",
   "id": "0cfc132a",
   "metadata": {},
   "source": [
    "Properties of a Foreign Key:\n",
    "    \n",
    "1. The foreign key values in a table can be null.\n",
    "2. The foreign key may contain duplicate values.\n",
    "3. A table may have more than one foreign key.\n",
    "4. The parent table records can be deleted if no child table record exists.\n",
    "5. Parent Table cannot be updated if its child table exists."
   ]
  },
  {
   "cell_type": "markdown",
   "id": "89f4788a",
   "metadata": {},
   "source": [
    "Q6. Write a python code to connect MySQL to python. Explain the cursor() and execute() method. "
   ]
  },
  {
   "cell_type": "code",
   "execution_count": 3,
   "id": "9bc3cd24",
   "metadata": {},
   "outputs": [
    {
     "name": "stdout",
     "output_type": "stream",
     "text": [
      "<mysql.connector.connection_cext.CMySQLConnection object at 0x000001FEFF1D9160>\n",
      "('information_schema',)\n",
      "('mysql',)\n",
      "('performance_schema',)\n",
      "('sakila',)\n",
      "('sys',)\n",
      "('test',)\n",
      "('test1',)\n",
      "('world',)\n"
     ]
    }
   ],
   "source": [
    "import mysql.connector\n",
    "\n",
    "mydb = mysql.connector.connect(\n",
    "    host = \"localhost\",\n",
    "    user = \"root\",\n",
    "    password = \"password\"\n",
    ")\n",
    "\n",
    "print(mydb)\n",
    "\n",
    "mycursor = mydb.cursor()\n",
    "mycursor.execute(\"SHOW DATABASES\")\n",
    "for x in mycursor:\n",
    "    print(x)"
   ]
  },
  {
   "cell_type": "markdown",
   "id": "4ad82a2f",
   "metadata": {},
   "source": [
    "cursor()\n",
    "\n",
    "Instantiates and returns a cursor using C Extension\n",
    "\n",
    "By default, CMySQLCursor is returned. Depending on the options\n",
    "while connecting, a buffered and/or raw cursor is instantiated\n",
    "instead. Also depending upon the cursor options, rows can be\n",
    "returned as dictionary or named tuple.\n",
    "\n",
    "Dictionary and namedtuple based cursors are available with buffered\n",
    "output but not raw.\n",
    "\n",
    "It is possible to also give a custom cursor through the\n",
    "cursor_class parameter, but it needs to be a subclass of\n",
    "mysql.connector.cursor_cext.CMySQLCursor.\n",
    "\n",
    "Raises ProgrammingError when cursor_class is not a subclass of\n",
    "CursorBase. Raises ValueError when cursor is not available.\n",
    "\n",
    "Returns instance of CMySQLCursor or subclass."
   ]
  },
  {
   "cell_type": "markdown",
   "id": "4feb67af",
   "metadata": {},
   "source": [
    "execute()\n",
    "\n",
    "Execute given statement using given parameters"
   ]
  }
 ],
 "metadata": {
  "kernelspec": {
   "display_name": "Python 3 (ipykernel)",
   "language": "python",
   "name": "python3"
  },
  "language_info": {
   "codemirror_mode": {
    "name": "ipython",
    "version": 3
   },
   "file_extension": ".py",
   "mimetype": "text/x-python",
   "name": "python",
   "nbconvert_exporter": "python",
   "pygments_lexer": "ipython3",
   "version": "3.9.13"
  }
 },
 "nbformat": 4,
 "nbformat_minor": 5
}
