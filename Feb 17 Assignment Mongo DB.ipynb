{
 "cells": [
  {
   "cell_type": "markdown",
   "id": "b787d2da",
   "metadata": {},
   "source": [
    "Q1. What is MongoDB? Explain non-relational databases in short. In which scenarios it is preferred to use  MongoDB over SQL databases? "
   ]
  },
  {
   "cell_type": "markdown",
   "id": "dea521f1",
   "metadata": {},
   "source": [
    "MongoDB is an open-source document-oriented database that is designed to store a large scale of data and also allows you to work with that data very efficiently. It is categorized under the NoSQL (Not only SQL) database because the storage and retrieval of data in the MongoDB are not in the form of tables. \n"
   ]
  },
  {
   "cell_type": "markdown",
   "id": "a20259df",
   "metadata": {},
   "source": [
    "A non-relational database is a database that does not use the tabular schema of rows and columns found in most traditional database systems. Instead, non-relational databases use a storage model that is optimized for the specific requirements of the type of data being stored."
   ]
  },
  {
   "cell_type": "markdown",
   "id": "e2592932",
   "metadata": {},
   "source": [
    "To prevent the database from becoming a system-wide bottleneck, especially in high volume environments, NoSQL databases perform in a way that relational databases cannot."
   ]
  },
  {
   "cell_type": "markdown",
   "id": "e5ad0072",
   "metadata": {},
   "source": [
    "Mongo DB or non-relational database is preferred when\n",
    "1. Storing large volumes of data without structure.\n",
    "2. Using clout computing and storage\n",
    "3. rapid development"
   ]
  },
  {
   "cell_type": "code",
   "execution_count": null,
   "id": "d83cad7a",
   "metadata": {},
   "outputs": [],
   "source": [
    "################################################################################################################################"
   ]
  },
  {
   "cell_type": "markdown",
   "id": "4201c1d7",
   "metadata": {},
   "source": [
    "Q2. State and Explain the features of MongoDB. "
   ]
  },
  {
   "cell_type": "markdown",
   "id": "10bedcdb",
   "metadata": {},
   "source": [
    "Dynamic schema: \n",
    "\n",
    "Mongo DB gives the flexibility to change the data schema without modifying any of your existing data."
   ]
  },
  {
   "cell_type": "markdown",
   "id": "222ebfa2",
   "metadata": {},
   "source": [
    "Scalability: \n",
    "\n",
    "MongoDB is horizontally scalable, which helps reduce the workload and scale your business with ease."
   ]
  },
  {
   "cell_type": "markdown",
   "id": "1b59f1f7",
   "metadata": {},
   "source": [
    "Manageability:\n",
    "    \n",
    "The database doesn’t require a database administrator. Since it is fairly user-friendly in this way, it can be used by both developers and administrators."
   ]
  },
  {
   "cell_type": "markdown",
   "id": "e3e8c067",
   "metadata": {},
   "source": [
    "Speed: \n",
    "    \n",
    "It’s high-performing for simple queries.\n",
    "\n",
    "\n",
    "Flexibility: \n",
    "\n",
    "You can add new columns or fields on MongoDB without affecting existing rows or application performance."
   ]
  },
  {
   "cell_type": "code",
   "execution_count": null,
   "id": "109826cb",
   "metadata": {},
   "outputs": [],
   "source": [
    "################################################################################################################################"
   ]
  },
  {
   "cell_type": "markdown",
   "id": "791e6247",
   "metadata": {},
   "source": [
    "Q3. Write a code to connect MongoDB to Python. Also, create a database and a collection in MongoDB. "
   ]
  },
  {
   "cell_type": "code",
   "execution_count": null,
   "id": "5a19443d",
   "metadata": {},
   "outputs": [],
   "source": [
    "import pymongo\n",
    "\n",
    "\n",
    "client = pymongo.MongoClient(\"mongodb+srv://hegdeprashant16:<######>@clustero.pkzfguv.mongodb.net/?retryWrites=true&w=majority\")\n",
    "\n",
    "#password is put as ###### for security reasons.\n",
    "\n",
    "db = client.test\n",
    "\n",
    "\n",
    "db = client['pwskills']\n",
    "\n",
    "coll_create = db['my_record']\n",
    "\n",
    "data = {\n",
    "    \n",
    "    'name' : 'prashant',\n",
    "    'class':'data science',\n",
    "    'timing' : 'flexi'\n",
    "}\n",
    "\n",
    "coll_create.insert_one(data)"
   ]
  },
  {
   "cell_type": "code",
   "execution_count": null,
   "id": "ca13533a",
   "metadata": {},
   "outputs": [],
   "source": [
    "################################################################################################################################"
   ]
  },
  {
   "cell_type": "markdown",
   "id": "d673027e",
   "metadata": {},
   "source": [
    "Q4. Using the database and the collection created in question number 3, write a code to insert one record,  and insert many records. Use the find() and find_one() methods to print the inserted record. "
   ]
  },
  {
   "cell_type": "code",
   "execution_count": null,
   "id": "d03f674f",
   "metadata": {},
   "outputs": [],
   "source": [
    "data1 = {\"mail_id\" : \"sudh@gmail.com\",\n",
    "         \"phone_number\" :2343243242\n",
    "}\n",
    "\n",
    "coll_create.insert_one(data1)"
   ]
  },
  {
   "cell_type": "code",
   "execution_count": null,
   "id": "548a6902",
   "metadata": {},
   "outputs": [],
   "source": [
    " data3 = [\n",
    "  { \"name\": \"Amy\", \"address\": \"Apple st 652\" },\n",
    "  { \"name\": \"Hannah\", \"address\": \"Mountain 21\" },\n",
    "  { \"name\": \"Michael\", \"address\": \"Valley 345\" },\n",
    "  { \"name\": \"Sandy\", \"address\": \"Ocean blvd 2\" },\n",
    "  { \"name\": \"Betty\", \"address\": \"Green Grass 1\" },\n",
    "  { \"name\": \"Richard\", \"address\": \"Sky st 331\" },\n",
    "  { \"name\": \"Susan\", \"address\": \"One way 98\" },\n",
    "  { \"name\": \"Vicky\", \"address\": \"Yellow Garden 2\" },\n",
    "  { \"name\": \"Ben\", \"address\": \"Park Lane 38\" },\n",
    "  { \"name\": \"William\", \"address\": \"Central st 954\" },\n",
    "  { \"name\": \"Chuck\", \"address\": \"Main Road 989\" },\n",
    "  { \"name\": \"Viola\", \"address\": \"Sideway 1633\" }\n",
    "]\n",
    "    \n",
    "\n",
    "coll_create.insert_many(data3)"
   ]
  },
  {
   "cell_type": "code",
   "execution_count": null,
   "id": "8dda8389",
   "metadata": {},
   "outputs": [],
   "source": [
    "for i in coll_create.find():\n",
    "    print(i)"
   ]
  },
  {
   "cell_type": "code",
   "execution_count": null,
   "id": "90d07239",
   "metadata": {},
   "outputs": [],
   "source": [
    "coll_create.find_one()"
   ]
  },
  {
   "cell_type": "code",
   "execution_count": null,
   "id": "4881849a",
   "metadata": {},
   "outputs": [],
   "source": [
    "################################################################################################################################"
   ]
  },
  {
   "cell_type": "markdown",
   "id": "11c43e17",
   "metadata": {},
   "source": [
    "Q5. Explain how you can use the find() method to query the MongoDB database. Write a simple code to  demonstrate this. "
   ]
  },
  {
   "cell_type": "markdown",
   "id": "a721e9e7",
   "metadata": {},
   "source": [
    "find() method is used to select data from the database. It returns all the occurrences of the information stored in the collection. It has 2 types of parameters, The first parameter of the find() method is a query object. "
   ]
  },
  {
   "cell_type": "code",
   "execution_count": null,
   "id": "240db88e",
   "metadata": {},
   "outputs": [],
   "source": [
    "import pymongo\n",
    "\n",
    "\n",
    "client = pymongo.MongoClient(\"mongodb+srv://hegdeprashant16:<######>@clustero.pkzfguv.mongodb.net/?retryWrites=true&w=majority\")\n",
    "\n",
    "#password is put as ###### for security reasons.\n",
    "\n",
    "db = client.test\n",
    "\n",
    "\n",
    "db = client['pwskills']\n",
    "\n",
    "coll_create = db['my_record']\n",
    "\n",
    "data = {\n",
    "    \n",
    "    'name' : 'prashant',\n",
    "    'class':'data science',\n",
    "    'timing' : 'flexi'\n",
    "}\n",
    "\n",
    "coll_create.insert_one(data)\n",
    "\n",
    "for i in coll_create.find():\n",
    "    print(i)"
   ]
  },
  {
   "cell_type": "markdown",
   "id": "df09909e",
   "metadata": {},
   "source": [
    "Q6. Explain the sort() method. Give an example to demonstrate sorting in MongoDB. "
   ]
  },
  {
   "cell_type": "markdown",
   "id": "653ad8c9",
   "metadata": {},
   "source": [
    "sort() method is used for sorting the database in some order. This method accepts two parameters first is the fieldname and the second one is for the direction to sort. (By default it sorts in ascending order) "
   ]
  },
  {
   "cell_type": "code",
   "execution_count": null,
   "id": "187480cc",
   "metadata": {},
   "outputs": [],
   "source": [
    "import pymongo\n",
    "\n",
    "\n",
    "client = pymongo.MongoClient(\"mongodb+srv://hegdeprashant16:<######>@clustero.pkzfguv.mongodb.net/?retryWrites=true&w=majority\")\n",
    "\n",
    "#password is put as ###### for security reasons.\n",
    "\n",
    "db = client.test\n",
    "\n",
    "\n",
    "db = client['pwskills']\n",
    "\n",
    "coll_create = db['my_record']\n",
    "\n",
    "data1 = {\n",
    "    \n",
    "    'name' : 'prashant',\n",
    "    'class':'data science',\n",
    "    'timing' : 'flexi'\n",
    "}\n",
    "\n",
    "data2 = {\n",
    "    \n",
    "    'name' : 'hegde',\n",
    "    'class':'masters',\n",
    "    'timing' : 'flexi'\n",
    "}\n",
    "\n",
    "coll_create.insert_one(data1)\n",
    "coll_create.insert_one(data2)\n",
    "\n",
    "for i in coll_create.find().sort('name'):\n",
    "    print(i)"
   ]
  },
  {
   "cell_type": "markdown",
   "id": "6b5bb5aa",
   "metadata": {},
   "source": [
    "Q7. Explain why delete_one(), delete_many(), and drop() is used. "
   ]
  },
  {
   "cell_type": "markdown",
   "id": "6a21b812",
   "metadata": {},
   "source": [
    "delete_one() : Delete a single document matching the filter"
   ]
  },
  {
   "cell_type": "markdown",
   "id": "e1f62058",
   "metadata": {},
   "source": [
    "delete_many() : Delete one or more documents matching the filter."
   ]
  },
  {
   "cell_type": "markdown",
   "id": "62483d12",
   "metadata": {},
   "source": [
    "drop() : drop is used to drop the collection so that data indexes are also removed and then create a new collection in that insert data"
   ]
  }
 ],
 "metadata": {
  "kernelspec": {
   "display_name": "Python 3 (ipykernel)",
   "language": "python",
   "name": "python3"
  },
  "language_info": {
   "codemirror_mode": {
    "name": "ipython",
    "version": 3
   },
   "file_extension": ".py",
   "mimetype": "text/x-python",
   "name": "python",
   "nbconvert_exporter": "python",
   "pygments_lexer": "ipython3",
   "version": "3.9.13"
  }
 },
 "nbformat": 4,
 "nbformat_minor": 5
}
