{
 "cells": [
  {
   "cell_type": "markdown",
   "id": "7f8713d8",
   "metadata": {},
   "source": [
    "Q1. What is an API? Give an example, where an API is used in real life. "
   ]
  },
  {
   "cell_type": "markdown",
   "id": "641acde8",
   "metadata": {},
   "source": [
    "The full form of API is Application Programming Interface. API is a medium through which two systems can talk to each other."
   ]
  },
  {
   "cell_type": "markdown",
   "id": "26872012",
   "metadata": {},
   "source": [
    "API is a set of rules and definitions that allow different computers, software, or services to communicate with each other over the internet. When two systems communicate, the server is the one that provides the API, and the client is the one who consumes it.\n",
    "\n",
    "APIs take a request from the client or user and send it to the server, which then sends back a response based on the request."
   ]
  },
  {
   "cell_type": "markdown",
   "id": "a562e166",
   "metadata": {},
   "source": [
    "In simple laymann terms : Ordering the food in a kitchen : \n",
    "\n",
    "you would ask the waiter to send your order to the kitchen and bring back the food for you. In this case note, the waiter is your API, the order is your request, the kitchen is the server, and the food is the response."
   ]
  },
  {
   "cell_type": "markdown",
   "id": "f80580b8",
   "metadata": {},
   "source": [
    "Ex : Google maps API in the Swiggy app"
   ]
  },
  {
   "cell_type": "code",
   "execution_count": null,
   "id": "aef37cab",
   "metadata": {},
   "outputs": [],
   "source": [
    "########################################################################################################################"
   ]
  },
  {
   "cell_type": "markdown",
   "id": "812a7e42",
   "metadata": {},
   "source": [
    "Q2. Give advantages and disadvantages of using API.  "
   ]
  },
  {
   "cell_type": "markdown",
   "id": "b9f10442",
   "metadata": {},
   "source": [
    "Advantages of APIs:\n",
    "1. Since APIs can access app components, the transfer of data becomes flexible.\n",
    "2. APIs can be easily integrated into any application irrespective of the platform or technology used.\n",
    "3. With APIs, data migration becomes easier.\n",
    "4. With APIs, developers can build a complex application without worrying about the code that goes behind it.\n",
    "5. APIs help companies and developers in automating their processes to enhance their productivity and efficiency.\n",
    "6. APIs are highly customizable and adaptable and thus, allows the user right to implement and update them in the way they desire."
   ]
  },
  {
   "cell_type": "markdown",
   "id": "62a7f6d6",
   "metadata": {},
   "source": [
    "Disadvantages of APIs:\n",
    "\n",
    "1. Since APIs are a single point of entry, they are vulnerable to attacks from hackers. (Many APIs have loosely coded logic. It may allow hackers to use this vulnerability maliciously. It even allows them to access the main application, thereby causing a loss of private data.)\n",
    "2. Once the API is compromised, it can lead to the loss of all other related or attached systems.\n",
    "Since APIs are on the internet, they are vulnerable to every kind of web attack including XSS attacks (adding external malicious scripts) and SQL injection (code injection technique to access the database).\n",
    "3. APIs are difficult to manage.\n",
    "4. There are chances of a system crash during the API testing."
   ]
  },
  {
   "cell_type": "code",
   "execution_count": 1,
   "id": "27edba84",
   "metadata": {},
   "outputs": [],
   "source": [
    "########################################################################################################################"
   ]
  },
  {
   "cell_type": "markdown",
   "id": "839e31c6",
   "metadata": {},
   "source": [
    "Q3. What is a Web API? Differentiate between API and Web API. "
   ]
  },
  {
   "cell_type": "markdown",
   "id": "2433541b",
   "metadata": {},
   "source": [
    "Web APIs\n",
    "\n",
    "Web APIs generally use HTTP for request messages. This is the most common class of APIs. Web APIs can be used by developers to extend the functionalities in their applications. E.g Google Maps API, Twitter API, etc."
   ]
  },
  {
   "cell_type": "markdown",
   "id": "d9777b63",
   "metadata": {},
   "source": [
    "Web API is a type of API that uses HTTP for request messages, while API is a general class of aplication programming interfaces"
   ]
  },
  {
   "cell_type": "code",
   "execution_count": null,
   "id": "ce6911ef",
   "metadata": {},
   "outputs": [],
   "source": [
    "########################################################################################################################"
   ]
  },
  {
   "cell_type": "markdown",
   "id": "92b54d58",
   "metadata": {},
   "source": [
    "Q4. Explain REST and SOAP Architecture. Mention shortcomings of SOAP. "
   ]
  },
  {
   "cell_type": "markdown",
   "id": "0b0abed1",
   "metadata": {},
   "source": [
    "1. SOAP (Simple Object Access Protocol)\n",
    "SOAP was developed by Microsoft. It is a lightweight protocol that uses Extensible Markup Language (XML – a simple format to store data) as a format to transfer data. SOAP contains the syntax rules for request and response messages to be followed by web applications. SOAP is generally used within organizations to ensure the high security of the data. The use of SOAP has fairly declined after the introduction of REST (Representational State Transfer) and JSON (Javascript Object Notation). E.g. Stop-light API.\n",
    "\n",
    "2. REST (Representational State Transfer)\n",
    "Unlike SOAP, REST uses JSON (a lightweight text format to transfer the data in key-value pairs) as a format to transfer data. REST is not a standard protocol but an architectural style that defines how the data would be transferred. REST APIs are stateless. It means that they can transfer data uniformly. REST APIs are built on multi-layered systems with defined server-client architecture. REST APIs are the most popular APIs due to their lightweight and fast nature. E.g. Spotify API, Twitter API, etc."
   ]
  },
  {
   "cell_type": "markdown",
   "id": "8a050c4a",
   "metadata": {},
   "source": [
    "Mention shortcomings of SOAP.\n",
    "\n",
    "Poorer performance, more complexity, less flexibility.\n",
    "\n",
    "Highly complex\n",
    "\n",
    "In comparison to Rest, SOAP is significantly more complex. It's also less flexible. This might present a challenge for developers that are not highly skilled. The extensive processing required may also slow down performance.\n",
    "No variety of data formats\n",
    "\n",
    "SOAP is also extremely limited in its support of data formats. The formats supported by Rest include HTML, JSON, YAML, XML and others. Meanwhile, SOAP only supports XML.\n",
    "API calls are not cached\n",
    "\n",
    "The process where a request is sent after an API is set up with the correct endpoints is referred to as an API call. The process results in the information being transferred, processed and feedback being provided. It's not possible for SOAP API calls to be cached.\n",
    "Uses more bandwidth\n",
    "\n",
    "SOAP is generally slower in comparison to Rest and it also uses more bandwidth given its very complex nature. It’s another limiting factor in the efficacy of this technology for certain projects."
   ]
  },
  {
   "cell_type": "code",
   "execution_count": 4,
   "id": "023a8173",
   "metadata": {},
   "outputs": [],
   "source": [
    "########################################################################################################################"
   ]
  },
  {
   "cell_type": "markdown",
   "id": "534e9d15",
   "metadata": {},
   "source": [
    "Q5. Differentiate between REST and SOAP. "
   ]
  },
  {
   "cell_type": "markdown",
   "id": "d4234bc6",
   "metadata": {},
   "source": [
    "\n",
    "Relies on SOAP (Simple Object Access Protocol)\t\n",
    "Relies on REST (Representational State Transfer) architecture using HTTP.\n",
    "\n",
    "\n",
    "Transports data in standard XML format.\t\n",
    "Generally transports data in JSON. It is based on URI. Because REST follows stateless model, REST does not enforces message format as XML or JSON etc.\n",
    "\n",
    "\n",
    "Because it is XML based and relies on SOAP, it works with WSDL\t\n",
    "It works with GET, POST, PUT, DELETE\n",
    "\n",
    "\n",
    "Works over HTTP, HTTPS, SMTP, XMPP\tWorks over HTTP and HTTPS,\n",
    "\n",
    "Highly structured/typed\tLess structured -> less bulky data\n",
    "\n",
    "\n",
    "Designed with large enterprise applications in mind\t\n",
    "Designed with mobile devices in mind"
   ]
  }
 ],
 "metadata": {
  "kernelspec": {
   "display_name": "Python 3 (ipykernel)",
   "language": "python",
   "name": "python3"
  },
  "language_info": {
   "codemirror_mode": {
    "name": "ipython",
    "version": 3
   },
   "file_extension": ".py",
   "mimetype": "text/x-python",
   "name": "python",
   "nbconvert_exporter": "python",
   "pygments_lexer": "ipython3",
   "version": "3.9.13"
  }
 },
 "nbformat": 4,
 "nbformat_minor": 5
}
